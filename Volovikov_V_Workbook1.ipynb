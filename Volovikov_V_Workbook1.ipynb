{
  "cells": [
    {
      "cell_type": "markdown",
      "source": [
        "#Пример 1.2"
      ],
      "metadata": {
        "id": "atoo1ttKg8hJ"
      },
      "id": "atoo1ttKg8hJ"
    },
    {
      "cell_type": "code",
      "source": [
        "x = 3 + 5.2 * 7\n",
        "y = None\n",
        "z = 'a', 5, 12.345, (2, 'b')\n",
        "df = [['Антонова Антонина', 34, 'ж'], ['Борисов Борис', 26, 'м']]\n",
        "A = {1,  'title', 2, 'content'}\n",
        "print(x, '|', type(x), '\\n',\n",
        "      y, '|', type(y), '\\n',\n",
        "      z, '|', type(z), '\\n',\n",
        "      df, '|', type(df), '\\n',\n",
        "      A, '|', type(A), '\\n')"
      ],
      "metadata": {
        "colab": {
          "base_uri": "https://localhost:8080/"
        },
        "id": "uG_cm6zjg82J",
        "outputId": "04ab71fe-11ae-4923-a90e-80a7602b5343"
      },
      "id": "uG_cm6zjg82J",
      "execution_count": null,
      "outputs": [
        {
          "output_type": "stream",
          "name": "stdout",
          "text": [
            "39.4 | <class 'float'> \n",
            " None | <class 'NoneType'> \n",
            " ('a', 5, 12.345, (2, 'b')) | <class 'tuple'> \n",
            " [['Антонова Антонина', 34, 'ж'], ['Борисов Борис', 26, 'м']] | <class 'list'> \n",
            " {1, 2, 'title', 'content'} | <class 'set'> \n",
            "\n"
          ]
        }
      ]
    },
    {
      "cell_type": "markdown",
      "id": "a2eef58e",
      "metadata": {
        "id": "a2eef58e"
      },
      "source": [
        "#Задание №1.3"
      ]
    },
    {
      "cell_type": "code",
      "execution_count": null,
      "id": "1a7b460b",
      "metadata": {
        "id": "1a7b460b",
        "outputId": "66267404-587e-43b7-cbcb-00db9c7533ea",
        "colab": {
          "base_uri": "https://localhost:8080/"
        }
      },
      "outputs": [
        {
          "output_type": "stream",
          "name": "stdout",
          "text": [
            "True | <class 'bool'> \n",
            " {8, 1, 3, 7} | <class 'set'> \n",
            " {2, 4, 5, 10, 'apple'} | <class 'set'> \n",
            " set() | <class 'set'> \n",
            " ('Антонова Антонина', 34, 'ж') | <class 'tuple'> \n",
            " type | <class 'str'> \n",
            " [1, 'title', 2, 'content'] | <class 'list'>\n"
          ]
        }
      ],
      "source": [
        "x = 5 >= 2\n",
        "A = {1, 3, 7, 8}\n",
        "B = {2, 4, 5, 10, 'apple'}\n",
        "C = A & B\n",
        "df = 'Антонова Антонина', 34, 'ж'\n",
        "z = 'type'\n",
        "D = [1, 'title', 2, 'content']\n",
        "print(x, '|', type(x), '\\n',\n",
        "      A, '|', type(A), '\\n',\n",
        "      B, '|', type(B), '\\n',\n",
        "      C, '|', type(C), '\\n',\n",
        "      df, '|', type(df), '\\n',\n",
        "      z, '|', type(z), '\\n',\n",
        "      D, '|', type(D))"
      ]
    },
    {
      "cell_type": "markdown",
      "source": [
        "#Пример 2.2"
      ],
      "metadata": {
        "id": "NyQWanc6huJq"
      },
      "id": "NyQWanc6huJq"
    },
    {
      "cell_type": "code",
      "source": [
        "x = 125\n",
        "if x < 0:\n",
        "    print('x отрицательный')\n",
        "elif x == 0:\n",
        "    print('x = 0')\n",
        "else:\n",
        "    print('x > 0')"
      ],
      "metadata": {
        "colab": {
          "base_uri": "https://localhost:8080/"
        },
        "id": "pnCmcaDshuWI",
        "outputId": "97c3041c-4bd4-4ba4-ffcc-722d756742e0"
      },
      "id": "pnCmcaDshuWI",
      "execution_count": null,
      "outputs": [
        {
          "output_type": "stream",
          "name": "stdout",
          "text": [
            "x > 0\n"
          ]
        }
      ]
    },
    {
      "cell_type": "markdown",
      "id": "8659cdaf",
      "metadata": {
        "id": "8659cdaf"
      },
      "source": [
        "#Задание 2.3 "
      ]
    },
    {
      "cell_type": "code",
      "execution_count": null,
      "id": "9b45057d",
      "metadata": {
        "id": "9b45057d",
        "outputId": "70e4c7bf-fc57-495d-9ac6-beb16f65b6f6"
      },
      "outputs": [
        {
          "name": "stdout",
          "output_type": "stream",
          "text": [
            "5\n",
            "[-5; 5]\n"
          ]
        }
      ],
      "source": [
        "x = int(input())\n",
        "print('(-infinity, -5)' if x < -5 else '[-5; 5]'\n",
        "      if -5 <= x <= 5 else '(5, +infinity)')"
      ]
    },
    {
      "cell_type": "markdown",
      "id": "3d5ede5b",
      "metadata": {
        "id": "3d5ede5b"
      },
      "source": [
        "# Пример 3.2.1"
      ]
    },
    {
      "cell_type": "code",
      "execution_count": null,
      "id": "4700ecfe",
      "metadata": {
        "id": "4700ecfe",
        "outputId": "8476138c-1b2e-4798-8a95-da64784a67ef"
      },
      "outputs": [
        {
          "name": "stdout",
          "output_type": "stream",
          "text": [
            "1\n",
            "4\n",
            "7\n",
            "10\n"
          ]
        }
      ],
      "source": [
        "x = 1\n",
        "while x <= 10:\n",
        "    print(x)\n",
        "    x +=3"
      ]
    },
    {
      "cell_type": "markdown",
      "id": "3b996b21",
      "metadata": {
        "id": "3b996b21"
      },
      "source": [
        "# Пример 3.2.2"
      ]
    },
    {
      "cell_type": "code",
      "execution_count": null,
      "id": "8206e445",
      "metadata": {
        "id": "8206e445",
        "outputId": "43cba9fb-7472-481e-a468-77fe5d57b640"
      },
      "outputs": [
        {
          "name": "stdout",
          "output_type": "stream",
          "text": [
            "KNN\n",
            "decision tree\n",
            "linear model\n"
          ]
        }
      ],
      "source": [
        "models = ['KNN', 'decision tree', 'linear model']\n",
        "for model in models:\n",
        "    print(model)"
      ]
    },
    {
      "cell_type": "markdown",
      "id": "dbebfcf0",
      "metadata": {
        "id": "dbebfcf0"
      },
      "source": [
        "# Пример 3.2.3"
      ]
    },
    {
      "cell_type": "code",
      "execution_count": null,
      "id": "09e49b54",
      "metadata": {
        "id": "09e49b54",
        "outputId": "afaaa86e-b273-4370-b327-ab1a4cddb408"
      },
      "outputs": [
        {
          "name": "stdout",
          "output_type": "stream",
          "text": [
            "[1, 8, 15, 22, 29, 36, 43, 50, 57, 64, 71, 78, 85, 92, 99]\n"
          ]
        }
      ],
      "source": [
        "list_int = range(1, 100, 7)\n",
        "print(list(list_int))"
      ]
    },
    {
      "cell_type": "markdown",
      "id": "53b3d96a",
      "metadata": {
        "id": "53b3d96a"
      },
      "source": [
        "# Пример 3.2.4"
      ]
    },
    {
      "cell_type": "code",
      "execution_count": null,
      "id": "48d5ec14",
      "metadata": {
        "id": "48d5ec14",
        "outputId": "4312e30f-42c4-40c7-ff76-a080b4d179a9"
      },
      "outputs": [
        {
          "name": "stdout",
          "output_type": "stream",
          "text": [
            "5\n",
            "30\n",
            "55\n",
            "80\n",
            "105\n"
          ]
        }
      ],
      "source": [
        "for i in range(5, 106, 25):\n",
        "    print(i)"
      ]
    },
    {
      "cell_type": "markdown",
      "id": "2401856c",
      "metadata": {
        "id": "2401856c"
      },
      "source": [
        "# Пример 3.2.5"
      ]
    },
    {
      "cell_type": "code",
      "execution_count": null,
      "id": "7689ab8b",
      "metadata": {
        "id": "7689ab8b",
        "outputId": "a717cb92-90db-4984-df00-4165ed2c257b"
      },
      "outputs": [
        {
          "name": "stdout",
          "output_type": "stream",
          "text": [
            "[2, 4, 6]\n",
            "[9, 8, 7, 6, 5, 4, 3, 2, 1]\n"
          ]
        }
      ],
      "source": [
        "a = [1, 2, 3, 4, 5, 6, 7, 8, 9]\n",
        "b = a[1:7:2]\n",
        "c = a[::-1]\n",
        "print(b)\n",
        "print(c)"
      ]
    },
    {
      "cell_type": "markdown",
      "id": "da23611a",
      "metadata": {
        "id": "da23611a"
      },
      "source": [
        "#Задание 3.3.1"
      ]
    },
    {
      "cell_type": "code",
      "execution_count": null,
      "id": "7766580e",
      "metadata": {
        "id": "7766580e",
        "outputId": "bb8502c0-239a-476b-8cbc-e4655d15b70e"
      },
      "outputs": [
        {
          "name": "stdout",
          "output_type": "stream",
          "text": [
            "10\n",
            "7\n",
            "4\n",
            "1\n"
          ]
        }
      ],
      "source": [
        "x = 10\n",
        "while x > 0:\n",
        "    print(x)\n",
        "    x -=3"
      ]
    },
    {
      "cell_type": "markdown",
      "id": "40ac137c",
      "metadata": {
        "id": "40ac137c"
      },
      "source": [
        "#Задание 3.3.2"
      ]
    },
    {
      "cell_type": "code",
      "execution_count": null,
      "id": "319d70ae",
      "metadata": {
        "id": "319d70ae",
        "outputId": "d5b9a52b-dc5f-4fcc-b659-65623b387d83"
      },
      "outputs": [
        {
          "name": "stdout",
          "output_type": "stream",
          "text": [
            "head\n",
            "body\n",
            "2 legs\n",
            "2 arms\n"
          ]
        }
      ],
      "source": [
        "human = ['head', 'body', '2 legs', '2 arms']\n",
        "for i in human:\n",
        "    print(i)"
      ]
    },
    {
      "cell_type": "markdown",
      "id": "5cb1f55c",
      "metadata": {
        "id": "5cb1f55c"
      },
      "source": [
        "#Задание 3.3.3"
      ]
    },
    {
      "cell_type": "code",
      "execution_count": null,
      "id": "6b55e3db",
      "metadata": {
        "id": "6b55e3db",
        "outputId": "6cb1522f-f032-4920-8593-fd9015fa23aa"
      },
      "outputs": [
        {
          "name": "stdout",
          "output_type": "stream",
          "text": [
            "[2, 3, 4, 5, 6, 7, 8, 9, 10, 11, 12, 13, 14, 15]\n"
          ]
        }
      ],
      "source": [
        "print(list(range(2, 16)))"
      ]
    },
    {
      "cell_type": "markdown",
      "id": "29e3ad62",
      "metadata": {
        "id": "29e3ad62"
      },
      "source": [
        "#Задание 3.3.4"
      ]
    },
    {
      "cell_type": "code",
      "execution_count": null,
      "id": "9db9ceeb",
      "metadata": {
        "id": "9db9ceeb",
        "outputId": "c685ab96-3080-4301-91ff-c946c152fd8a"
      },
      "outputs": [
        {
          "name": "stdout",
          "output_type": "stream",
          "text": [
            "105\n",
            "80\n",
            "55\n",
            "30\n",
            "5\n"
          ]
        }
      ],
      "source": [
        "for i in range (105, 4, -25):\n",
        "    print(i)"
      ]
    },
    {
      "cell_type": "markdown",
      "id": "633ae905",
      "metadata": {
        "id": "633ae905"
      },
      "source": [
        "#Задание 3.3.5"
      ]
    },
    {
      "cell_type": "code",
      "execution_count": null,
      "id": "ee6e1cdd",
      "metadata": {
        "id": "ee6e1cdd",
        "outputId": "a16fa0a3-a680-4232-e443-df356d49e317",
        "colab": {
          "base_uri": "https://localhost:8080/"
        }
      },
      "outputs": [
        {
          "output_type": "stream",
          "name": "stdout",
          "text": [
            "0 1 2 3 4 5 6 7 8 9\n",
            "['8', '1', '6', '3', '4', '5', '2', '7', '0', '9']\n"
          ]
        }
      ],
      "source": [
        "a = input().split()\n",
        "a[::2] = reversed(a[::2])\n",
        "print(x)"
      ]
    },
    {
      "cell_type": "markdown",
      "source": [
        "#Пример 4.2.1"
      ],
      "metadata": {
        "id": "9GUn0Ps_1ybN"
      },
      "id": "9GUn0Ps_1ybN"
    },
    {
      "cell_type": "code",
      "source": [
        "import math as m\n",
        "print(m.sin(m.e))"
      ],
      "metadata": {
        "colab": {
          "base_uri": "https://localhost:8080/"
        },
        "id": "0jB2QJOxMhkF",
        "outputId": "acd8cc12-89f8-419f-e4f2-757a24926c84"
      },
      "id": "0jB2QJOxMhkF",
      "execution_count": null,
      "outputs": [
        {
          "output_type": "stream",
          "name": "stdout",
          "text": [
            "0.41078129050290885\n"
          ]
        }
      ]
    },
    {
      "cell_type": "markdown",
      "source": [
        "#Пример 4.2.2"
      ],
      "metadata": {
        "id": "quKLWwACMoWc"
      },
      "id": "quKLWwACMoWc"
    },
    {
      "cell_type": "code",
      "source": [
        "import numpy as np\n",
        "import matplotlib.pyplot as plt\n",
        "from scipy.integrate import simps\n",
        "from numpy import trapz\n",
        "x = np.arange(0.0, 10, 0.1)\n",
        "y = np.abs(np.sin(x * np.e ** np.cos(x)))\n",
        "plt.grid()\n",
        "plt.plot(x, y, c = 'r')\n",
        "plt.fill_between(x, y)\n",
        "\n",
        "area = trapz(y)\n",
        "print(area)"
      ],
      "metadata": {
        "colab": {
          "base_uri": "https://localhost:8080/",
          "height": 283
        },
        "id": "FI9FvDquMwnE",
        "outputId": "13e590ec-ef46-4745-8c1d-561dd625b856"
      },
      "id": "FI9FvDquMwnE",
      "execution_count": null,
      "outputs": [
        {
          "output_type": "stream",
          "name": "stdout",
          "text": [
            "73.50792907748664\n"
          ]
        },
        {
          "output_type": "display_data",
          "data": {
            "text/plain": [
              "<Figure size 432x288 with 1 Axes>"
            ],
            "image/png": "[encoded data removed]"
          },
          "metadata": {
            "needs_background": "light"
          }
        }
      ]
    },
    {
      "cell_type": "markdown",
      "source": [
        "#Пример 4.2.3"
      ],
      "metadata": {
        "id": "SSFiZmMgOKzJ"
      },
      "id": "SSFiZmMgOKzJ"
    },
    {
      "cell_type": "code",
      "source": [
        "import numpy as np\n",
        "from matplotlib import pyplot as plt\n",
        "marks = ['Неуд', 'Удв', 'Хор', 'Отл']\n",
        "data = [3, 7, 8, 4]\n",
        "fig = plt.figure(figsize = (10, 7))\n",
        "plt.pie(data, labels = marks)\n",
        "plt.show()\n",
        "plt.grid()\n",
        "plt.scatter(marks, data)"
      ],
      "metadata": {
        "colab": {
          "base_uri": "https://localhost:8080/",
          "height": 677
        },
        "id": "LcwhDs3mOOQ-",
        "outputId": "b2efab1f-3655-4657-f314-bdfa41ce437c"
      },
      "id": "LcwhDs3mOOQ-",
      "execution_count": null,
      "outputs": [
        {
          "output_type": "display_data",
          "data": {
            "text/plain": [
              "<Figure size 720x504 with 1 Axes>"
            ],
            "image/png": "[encoded data removed]"
          },
          "metadata": {}
        },
        {
          "output_type": "execute_result",
          "data": {
            "text/plain": [
              "<matplotlib.collections.PathCollection at 0x7f3e2cb23e80>"
            ]
          },
          "metadata": {},
          "execution_count": 19
        },
        {
          "output_type": "display_data",
          "data": {
            "text/plain": [
              "<Figure size 432x288 with 1 Axes>"
            ],
            "image/png": "[encoded data removed]"
          },
          "metadata": {
            "needs_background": "light"
          }
        }
      ]
    },
    {
      "cell_type": "markdown",
      "source": [
        "#Задание 4.3.1"
      ],
      "metadata": {
        "id": "549-b5iPRKmC"
      },
      "id": "549-b5iPRKmC"
    },
    {
      "cell_type": "code",
      "source": [
        "import random as rd\n",
        "import numpy as np\n",
        "from matplotlib import pyplot as plt\n",
        "a = np.random.rand(10)\n",
        "y = np.arange(1, 11, 1)\n",
        "average = np.average(a)\n",
        "median = np.median(a)\n",
        "print(f'Averahe value = {average}')\n",
        "print(f'Median value = {median}')\n",
        "plt.scatter(a, y)"
      ],
      "metadata": {
        "colab": {
          "base_uri": "https://localhost:8080/",
          "height": 319
        },
        "id": "Ik03PJRyRPj2",
        "outputId": "97396078-f3a1-4a55-ece5-bf746e44ee0c"
      },
      "id": "Ik03PJRyRPj2",
      "execution_count": null,
      "outputs": [
        {
          "output_type": "stream",
          "name": "stdout",
          "text": [
            "Averahe value = 0.422921328882145\n",
            "Median value = 0.33427728619123054\n"
          ]
        },
        {
          "output_type": "execute_result",
          "data": {
            "text/plain": [
              "<matplotlib.collections.PathCollection at 0x7fe49712cfa0>"
            ]
          },
          "metadata": {},
          "execution_count": 6
        },
        {
          "output_type": "display_data",
          "data": {
            "text/plain": [
              "<Figure size 432x288 with 1 Axes>"
            ],
            "image/png": "[encoded data removed]"
          },
          "metadata": {
            "needs_background": "light"
          }
        }
      ]
    },
    {
      "cell_type": "markdown",
      "source": [
        "#Задание 4.3.2"
      ],
      "metadata": {
        "id": "AidIsnnZYREu"
      },
      "id": "AidIsnnZYREu"
    },
    {
      "cell_type": "code",
      "source": [
        "import numpy as np\n",
        "from matplotlib import pyplot as plt\n",
        "\n",
        "def f(x):\n",
        "  return np.sqrt(1 + np.e ** np.sqrt(x) + np.cos(x) ** 2) / \\\n",
        "          np.abs(1 - np.sin(x) ** 3) + np.log(np.abs(2 * x))\n",
        "\n",
        "\n",
        "array = [0]*10\n",
        "for i in range(10):\n",
        "  array[i] = f(i+1)\n",
        "half_array = array[:5]\n",
        "\n",
        "x = np.arange(1, 11, 1)\n",
        "plt.plot(x, array, color='r', label='Linear graph')\n",
        "x = np.arange(1, 6, 1)\n",
        "plt.scatter(x, half_array, color='b', label='Dot graph')"
      ],
      "metadata": {
        "colab": {
          "base_uri": "https://localhost:8080/",
          "height": 282
        },
        "id": "6Ff0WoCfYX74",
        "outputId": "be4fbbd1-b05e-45d8-de8e-b3924277f1ce"
      },
      "id": "6Ff0WoCfYX74",
      "execution_count": null,
      "outputs": [
        {
          "output_type": "execute_result",
          "data": {
            "text/plain": [
              "<matplotlib.collections.PathCollection at 0x7fb1f915f6d0>"
            ]
          },
          "metadata": {},
          "execution_count": 7
        },
        {
          "output_type": "display_data",
          "data": {
            "text/plain": [
              "<Figure size 432x288 with 1 Axes>"
            ],
            "image/png": "[encoded data removed]"
          },
          "metadata": {
            "needs_background": "light"
          }
        }
      ]
    },
    {
      "cell_type": "markdown",
      "source": [
        "#Задание 4.3.3"
      ],
      "metadata": {
        "id": "lBq5cN-jeoH-"
      },
      "id": "lBq5cN-jeoH-"
    },
    {
      "cell_type": "code",
      "source": [
        "import numpy as np\n",
        "import matplotlib.pyplot as plt\n",
        "from scipy.integrate import simps\n",
        "from numpy import trapz\n",
        "\n",
        "\n",
        "def f(x):\n",
        "  return np.abs(np.cos(x * np.e ** (np.cos(x) + np.log(x + 1))))\n",
        "\n",
        "\n",
        "x = np.arange(0.0, 10, 1)\n",
        "y = f(x)\n",
        "plt.grid()\n",
        "plt.plot(x, y, c = 'r')\n",
        "plt.fill_between(x, y)\n",
        "\n",
        "area = trapz(y)\n",
        "print(f'Area = {area}')"
      ],
      "metadata": {
        "colab": {
          "base_uri": "https://localhost:8080/",
          "height": 283
        },
        "id": "n03BHMQ-esBO",
        "outputId": "7ab5b80c-533d-4875-bfa1-29be5ee8ec6b"
      },
      "id": "n03BHMQ-esBO",
      "execution_count": null,
      "outputs": [
        {
          "output_type": "stream",
          "name": "stdout",
          "text": [
            "Area = 6.260345875494736\n"
          ]
        },
        {
          "output_type": "display_data",
          "data": {
            "text/plain": [
              "<Figure size 432x288 with 1 Axes>"
            ],
            "image/png": "[encoded data removed]"
          },
          "metadata": {
            "needs_background": "light"
          }
        }
      ]
    },
    {
      "cell_type": "markdown",
      "source": [
        "#Задание 4.3.4"
      ],
      "metadata": {
        "id": "cAsPUzDIfp9p"
      },
      "id": "cAsPUzDIfp9p"
    },
    {
      "cell_type": "code",
      "source": [
        "import numpy as np\n",
        "import matplotlib.pyplot as plt\n",
        "\n",
        "#Apple\n",
        "apple = [131.96, 121.26, 122.15, 131.46, 124.61, 136.96,\n",
        "         145.86, 151.83, 141.50, 149.80, 165.30, 177.57]\n",
        "\n",
        "#Microsoft\n",
        "microsoft = [231.96, 232.38, 235.77, 252.18, 249.68, 270.90,\n",
        "             284.91, 301.88, 281.92, 331.62, 330.59, 336.32]\n",
        "\n",
        "#Google\n",
        "google = [91.79, 101.84, 103.43, 120.51, 120.58, 125.32,\n",
        "          135.22, 145.46, 133.27, 148.27, 142.45, 144.68]\n",
        "\n",
        "x = np.arange(1, 13, 1)\n",
        "  \n",
        "plt.plot(x, apple, color='r', label='apple')\n",
        "plt.scatter(x, apple, color='r')\n",
        "plt.plot(x, microsoft, color='g', label='microsoft')\n",
        "plt.scatter(x, microsoft, color='g')\n",
        "plt.plot(x, google, color='b', label='google')\n",
        "plt.scatter(x, google, color='b')\n",
        "  \n",
        "plt.xlabel(\"1th day of Month 2021\")\n",
        "plt.ylabel(\"Price, $\")\n",
        "plt.title(\"Stock price\")\n",
        "  \n",
        "plt.legend()\n",
        "  \n",
        "plt.show()"
      ],
      "metadata": {
        "colab": {
          "base_uri": "https://localhost:8080/",
          "height": 295
        },
        "id": "IKtRF9l7ftdp",
        "outputId": "a12dfb02-40d0-4940-f63a-5742654bb37b"
      },
      "id": "IKtRF9l7ftdp",
      "execution_count": null,
      "outputs": [
        {
          "output_type": "display_data",
          "data": {
            "text/plain": [
              "<Figure size 432x288 with 1 Axes>"
            ],
            "image/png": "[encoded data removed]"
          },
          "metadata": {
            "needs_background": "light"
          }
        }
      ]
    },
    {
      "cell_type": "markdown",
      "source": [
        "#Задание 4.3.5"
      ],
      "metadata": {
        "id": "8oDfwGMCf0fv"
      },
      "id": "8oDfwGMCf0fv"
    },
    {
      "cell_type": "code",
      "source": [
        "import numpy as np\n",
        "\n",
        "\n",
        "def do(x, operation, y):\n",
        "    if operation == '+':\n",
        "        return x + y\n",
        "    elif operation == '-':\n",
        "        return x - y\n",
        "    elif operation == '*':\n",
        "        return x * y\n",
        "    elif operation == '/':\n",
        "        return x / y if y != 0 else 'Error'\n",
        "    elif operation == '^':\n",
        "        return x ** y\n",
        "    elif operation == 'exp':\n",
        "        return np.e ** (x + y)\n",
        "    elif operation == 'sin':\n",
        "        return np.sin(x + y)\n",
        "    elif operation == 'cos':\n",
        "        return np.cos(x + y)\n",
        "    else:\n",
        "        return 'Error'\n",
        "\n",
        "\n",
        "def calculator():\n",
        "    x = int(input('Enter first number: '))\n",
        "    y = int(input('Enter second number: '))\n",
        "    operation = input('Enter operation(exp, sin, cos): ')\n",
        "    answer = do(x, operation, y)\n",
        "    if operation == 'exp':\n",
        "        print(f'exp^({x}+{y}) = {answer}')\n",
        "    elif operation == 'sin':\n",
        "        print(f'sin({x}+{y}) = {answer}')\n",
        "    elif operation == 'cos':\n",
        "        print(f'cos({x}+{y}) = {answer}')\n",
        "    elif answer != 'Error':\n",
        "        print(x, operation, y, '=', answer)\n",
        "    else:\n",
        "        print('Error')\n",
        "\n",
        "\n",
        "calculator()"
      ],
      "metadata": {
        "colab": {
          "base_uri": "https://localhost:8080/"
        },
        "id": "gvNhViJ_f4YJ",
        "outputId": "5f4d4837-3d86-4d94-e00b-77616f6b83b5"
      },
      "id": "gvNhViJ_f4YJ",
      "execution_count": null,
      "outputs": [
        {
          "output_type": "stream",
          "name": "stdout",
          "text": [
            "Enter first number: 5\n",
            "Enter second number: 6\n",
            "Enter operation(exp, sin, cos): ^\n",
            "5 ^ 6 = 15625\n"
          ]
        }
      ]
    }
  ],
  "metadata": {
    "kernelspec": {
      "display_name": "Python 3 (ipykernel)",
      "language": "python",
      "name": "python3"
    },
    "language_info": {
      "codemirror_mode": {
        "name": "ipython",
        "version": 3
      },
      "file_extension": ".py",
      "mimetype": "text/x-python",
      "name": "python",
      "nbconvert_exporter": "python",
      "pygments_lexer": "ipython3",
      "version": "3.9.12"
    },
    "colab": {
      "provenance": []
    }
  },
  "nbformat": 4,
  "nbformat_minor": 5
}