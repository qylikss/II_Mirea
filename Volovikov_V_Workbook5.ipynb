{
  "cells": [
    {
      "cell_type": "markdown",
      "id": "4696f393",
      "metadata": {
        "id": "4696f393"
      },
      "source": [
        "## 1.2.1 Пример"
      ]
    },
    {
      "cell_type": "code",
      "execution_count": 1,
      "id": "2f32c4b3",
      "metadata": {
        "colab": {
          "base_uri": "https://localhost:8080/"
        },
        "id": "2f32c4b3",
        "outputId": "8239db87-dfd6-4823-8b68-c3e25080ec57"
      },
      "outputs": [
        {
          "output_type": "stream",
          "name": "stdout",
          "text": [
            "['inheritance']\n",
            "['inheritance', 'class']\n"
          ]
        }
      ],
      "source": [
        "class Data:\n",
        "    def __init__(self,*info):\n",
        "        self.info=list(info)\n",
        "    def __getitem__(self,i):\n",
        "        return self.info[i]\n",
        "    \n",
        "class Teacher:\n",
        "    def teach(self, info,*pupil):\n",
        "        for i in pupil:\n",
        "            i.take(info)\n",
        "            \n",
        "class Pupil:\n",
        "    def __init__(self):\n",
        "        self.knowledge=[]\n",
        "    def take(self,info):\n",
        "        self.knowledge.append(info)\n",
        "lesson = Data('class','object','inheritance','polymorhism','encapsulation')\n",
        "marIvanna=Teacher()\n",
        "vasy=Pupil()\n",
        "pety=Pupil()\n",
        "marIvanna.teach(lesson[2],vasy,pety)\n",
        "marIvanna.teach(lesson[0],pety)\n",
        "print(vasy.knowledge)\n",
        "print(pety.knowledge)"
      ]
    },
    {
      "cell_type": "code",
      "execution_count": 2,
      "id": "774db6ec",
      "metadata": {
        "colab": {
          "base_uri": "https://localhost:8080/"
        },
        "id": "774db6ec",
        "outputId": "5063e9cb-c9af-4e61-898d-7a51cecc261b"
      },
      "outputs": [
        {
          "name": "stdout",
          "output_type": "stream",
          "text": [
            "Enter 1 to attack. Enter 2 to stop program: 1\n",
            "Warrior2 has attacked\n",
            "80 left\n",
            "Enter 1 to let some warrior attack:1\n",
            "Warrior1 has attacked\n",
            "80 left\n",
            "Enter 1 to let some warrior attack:1\n",
            "Warrior2 has attacked\n",
            "60 left\n",
            "Enter 1 to let some warrior attack:1\n",
            "Warrior1 has attacked\n",
            "60 left\n",
            "Enter 1 to let some warrior attack:1\n",
            "Warrior2 has attacked\n",
            "40 left\n",
            "Enter 1 to let some warrior attack:1\n",
            "Warrior1 has attacked\n",
            "40 left\n",
            "Enter 1 to let some warrior attack:1\n",
            "Warrior2 has attacked\n",
            "20 left\n",
            "Enter 1 to let some warrior attack:1\n",
            "Warrior2 has attacked\n",
            "0 left\n",
            "Warrior2 has won\n",
            "Enter 1 to let some warrior attack:2\n"
          ]
        }
      ],
      "source": [
        "import random\n",
        "class Warrior:\n",
        "    def __init__(self,health):\n",
        "        self.health=health\n",
        "    def hit(self,target,target1):\n",
        "        if target.health>0:\n",
        "            target.health-=20\n",
        "        if target1 == warrior1:\n",
        "            target1 = \"Warrior1\"\n",
        "        if target1 == warrior2:\n",
        "            target1= \"Warrior2\"\n",
        "        print(target1, \"has attacked\")\n",
        "        print(target.health, \"left\")\n",
        "        if target.health == 0:\n",
        "            print(target1,\"has won\")\n",
        "warrior1= Warrior(100)\n",
        "warrior2= Warrior(100)\n",
        "q = int(input(\"Enter 1 to attack. Enter 2 to stop program: \"))\n",
        "\n",
        "while q!=2:\n",
        "    if q == 1:\n",
        "        j = random.randint(1,3)\n",
        "        if j%2 == 0:\n",
        "            warrior1.hit(warrior2, warrior1)\n",
        "            q=int(input(\"Enter 1 to let some warrior attack:\"))\n",
        "        else:\n",
        "            warrior2.hit(warrior1, warrior2)\n",
        "            q=int(input(\"Enter 1 to let some warrior attack:\"))\n",
        "    else:\n",
        "        print(\"Wrong input.\")\n",
        "        break\n",
        "            "
      ]
    },
    {
      "cell_type": "markdown",
      "id": "18019b3f",
      "metadata": {
        "id": "18019b3f"
      },
      "source": [
        "## 1.2.3 Пример\n"
      ]
    },
    {
      "cell_type": "code",
      "execution_count": 3,
      "id": "47eaabb9",
      "metadata": {
        "colab": {
          "base_uri": "https://localhost:8080/"
        },
        "id": "47eaabb9",
        "outputId": "038290dd-0e58-4763-afab-9fef14d97942"
      },
      "outputs": [
        {
          "output_type": "stream",
          "name": "stdout",
          "text": [
            "5/6\n",
            "1/6\n",
            "1/6\n",
            "1/6\n",
            "3/2\n",
            "13/2\n"
          ]
        }
      ],
      "source": [
        "class Rational:\n",
        "    \n",
        "    @staticmethod\n",
        "    def gcd(a,b):\n",
        "        while(b!=0):\n",
        "            (a,b)=(b,a%b)\n",
        "        return a\n",
        "    @staticmethod\n",
        "    def sgn(x):\n",
        "        if x>0:\n",
        "            return 1\n",
        "        elif x<0:\n",
        "            return -1\n",
        "        else:\n",
        "            return 0          \n",
        "    def __init__(self,n,d):\n",
        "        if n==0:\n",
        "            self.num=0\n",
        "            self.den=1\n",
        "        else:\n",
        "            z=self.sgn(n)*self.sgn(d)\n",
        "            n=abs(n)\n",
        "            d=abs(d)\n",
        "            k=self.gcd(n,d)\n",
        "            self.num=z*n//k\n",
        "            self.den=d//k\n",
        "    \n",
        "    def __str__(self):\n",
        "        if self.num==0:\n",
        "            return \"0\"\n",
        "        else:\n",
        "            return str(self.num)+\"/\"+str(self.den)        \n",
        "    \n",
        "    def __add__(self,o):\n",
        "        n1=self.num\n",
        "        d1=self.den\n",
        "        if type(o)==int:\n",
        "            n2=o\n",
        "            d2=1\n",
        "        else:\n",
        "            n2=o.num\n",
        "            d2=o.den\n",
        "        n=n1*d2+n2*d1\n",
        "        d=d1*d2\n",
        "        return Rational(n,d)\n",
        "    \n",
        "    def __radd__(self,o):\n",
        "        n1=self.num\n",
        "        d1=self.den\n",
        "        if type(o)==int:\n",
        "            n2=o\n",
        "            d2=1\n",
        "        else:\n",
        "            n2=o.num\n",
        "            d2=o.den\n",
        "        n=n1*d2+n2*d1\n",
        "        d=d1*d2\n",
        "        return Rational(n,d)   \n",
        "    def __sub__(self,o):\n",
        "        n1=self.num\n",
        "        d1=self.den\n",
        "        n2=o.num\n",
        "        d2=o.den\n",
        "        n=n1*d2-n2*d1\n",
        "        d=d1*d2\n",
        "        return Rational(n,d)    \n",
        "    def __mul__(self,o):\n",
        "        n1=self.num\n",
        "        d1=self.den\n",
        "        n2=o.num\n",
        "        d2=o.den\n",
        "        n=n1*n2\n",
        "        d=d1*d2\n",
        "        return Rational(n,d)    \n",
        "    def __floordiv__(self,o):\n",
        "        n1=self.num\n",
        "        d1=self.den\n",
        "        n2=o.num\n",
        "        d2=o.den\n",
        "        n=n1*d2\n",
        "        d=d1*n2\n",
        "        return Rational(n,d)\n",
        "\n",
        "d1=Rational(1,2)\n",
        "d2=Rational(1,3)\n",
        "d3=d1+d2\n",
        "print(d3)\n",
        "d4=d1-d2\n",
        "print(d4)\n",
        "d5=d1*d2\n",
        "print(d5)\n",
        "d6=d1*d2\n",
        "print(d6)\n",
        "d7=d1//d2\n",
        "print(d7)\n",
        "d8=6+d1\n",
        "print(d8)\n",
        "\n",
        "        "
      ]
    },
    {
      "cell_type": "markdown",
      "id": "dcde70ff",
      "metadata": {
        "id": "dcde70ff"
      },
      "source": [
        "## Задание\n",
        "\n"
      ]
    },
    {
      "cell_type": "code",
      "execution_count": 14,
      "id": "3cabb503",
      "metadata": {
        "colab": {
          "base_uri": "https://localhost:8080/"
        },
        "id": "3cabb503",
        "outputId": "8ff865fd-e367-4c21-db17-d9f2c37fa5d4"
      },
      "outputs": [
        {
          "output_type": "stream",
          "name": "stdout",
          "text": [
            "0.5253219888177297\n",
            "0.8509035245341184\n",
            "1.6197751905438615\n",
            "0.0\n",
            "1.5707963267948966\n",
            "0.7853981633974483\n",
            "3.141592653589793\n"
          ]
        }
      ],
      "source": [
        "import math as m\n",
        "import numpy as np\n",
        "\n",
        "class Trig:\n",
        "    def __init__(self,rec):\n",
        "        self.num=rec\n",
        "        \n",
        "    def cos(self):\n",
        "        return np.cos(self.num)\n",
        "    def sin(self):\n",
        "        return np.sin(self.num)\n",
        "    def tg(self):\n",
        "        return np.tan(self.num)\n",
        "    def arcsin(self):\n",
        "        return m.asin(self.num)\n",
        "    def arccos(self):\n",
        "        return m.acos(self.num)\n",
        "    def arctg(self):\n",
        "        return m.atan(self.num)\n",
        "    def rad(self):\n",
        "        return self.num*m.pi/180\n",
        "    \n",
        "\n",
        "\n",
        "rec1 = Trig(45)\n",
        "rec2 = Trig(45)\n",
        "rec3 = Trig(45)\n",
        "rec4 = Trig(0)\n",
        "rec5 = Trig(0)\n",
        "rec6 = Trig(1)\n",
        "rec7 = Trig(180)\n",
        "\n",
        "\n",
        "print(rec1.cos())\n",
        "print(rec2.sin())\n",
        "print(rec3.tg())\n",
        "print(rec4.arcsin())\n",
        "print(rec5.arccos())\n",
        "print(rec6.arctg())\n",
        "print(rec7.rad())"
      ]
    },
    {
      "cell_type": "markdown",
      "id": "73e5beeb",
      "metadata": {
        "id": "73e5beeb"
      },
      "source": [
        "## 1.2.1 Пример"
      ]
    },
    {
      "cell_type": "code",
      "execution_count": 16,
      "id": "2a5dbce6",
      "metadata": {
        "colab": {
          "base_uri": "https://localhost:8080/",
          "height": 35
        },
        "id": "2a5dbce6",
        "outputId": "2b3fc870-6157-4664-c4e5-41561b69ad09"
      },
      "outputs": [
        {
          "output_type": "execute_result",
          "data": {
            "text/plain": [
              "'c'"
            ],
            "application/vnd.google.colaboratory.intrinsic+json": {
              "type": "string"
            }
          },
          "metadata": {},
          "execution_count": 16
        }
      ],
      "source": [
        "class Tree:\n",
        "    def __init__(self,left,right):\n",
        "        self.left=left\n",
        "        self.right=right\n",
        "        \n",
        "t=Tree(Tree(\"a\",\"b\"),Tree(\"c\",\"d\"))\n",
        "t.right.left"
      ]
    },
    {
      "cell_type": "markdown",
      "id": "cc629466",
      "metadata": {
        "id": "cc629466"
      },
      "source": [
        "## 1.2.2 Пример"
      ]
    },
    {
      "cell_type": "code",
      "execution_count": 17,
      "id": "d28269a0",
      "metadata": {
        "colab": {
          "base_uri": "https://localhost:8080/",
          "height": 35
        },
        "id": "d28269a0",
        "outputId": "2cc83ad3-748b-4041-a59a-dafdea4d4cf8"
      },
      "outputs": [
        {
          "output_type": "execute_result",
          "data": {
            "text/plain": [
              "'c'"
            ],
            "application/vnd.google.colaboratory.intrinsic+json": {
              "type": "string"
            }
          },
          "metadata": {},
          "execution_count": 17
        }
      ],
      "source": [
        "class Tree:\n",
        "    def __init__(self,kids,next=None):\n",
        "        self.kids=self.val=kids\n",
        "        self.next=next\n",
        "        \n",
        "t=Tree(Tree(\"a\",Tree(\"b\",Tree(\"c\",Tree(\"d\")))))\n",
        "t.kids.next.next.val"
      ]
    },
    {
      "cell_type": "markdown",
      "id": "1c88474a",
      "metadata": {
        "id": "1c88474a"
      },
      "source": [
        "## Задание\n"
      ]
    },
    {
      "cell_type": "code",
      "execution_count": 18,
      "id": "f01503db",
      "metadata": {
        "colab": {
          "base_uri": "https://localhost:8080/"
        },
        "id": "f01503db",
        "outputId": "35dac6e9-30e7-40c1-85af-c8c352886501"
      },
      "outputs": [
        {
          "output_type": "stream",
          "name": "stdout",
          "text": [
            "['a', ['b', ['d', [], []], ['e', [], []]], ['c', ['f', [], []], []]]\n",
            "left subtree =  ['b', ['d', [], []], ['e', [], []]]\n",
            "root =  a\n",
            "right subtree =  ['c', ['f', [], []], []]\n"
          ]
        }
      ],
      "source": [
        "myTree = ['a', ['b', ['d',[],[]], ['e',[],[]] ], ['c', ['f',[],[]], []] ]\n",
        "print(myTree)\n",
        "print('left subtree = ', myTree[1])\n",
        "print('root = ', myTree[0])\n",
        "print('right subtree = ', myTree[2])"
      ]
    },
    {
      "cell_type": "markdown",
      "id": "2a2df52c",
      "metadata": {
        "id": "2a2df52c"
      },
      "source": [
        "## Задание"
      ]
    },
    {
      "cell_type": "code",
      "execution_count": 21,
      "id": "a48589d8",
      "metadata": {
        "colab": {
          "base_uri": "https://localhost:8080/"
        },
        "id": "a48589d8",
        "outputId": "c743abe3-8d07-4dd1-d65d-f9afc1c3f2f5"
      },
      "outputs": [
        {
          "output_type": "stream",
          "name": "stdout",
          "text": [
            "1\n",
            "3\n",
            "4\n",
            "5\n",
            "9\n"
          ]
        }
      ],
      "source": [
        "class Tree:\n",
        "    def __init__(self, data):\n",
        "        self.left = None\n",
        "        self.right = None\n",
        "        self.data = data\n",
        "\n",
        "    def insert(self, data):\n",
        "        if self.data:\n",
        "            if data < self.data:\n",
        "                if self.left == None:\n",
        "                    self.left = Tree(data)\n",
        "                else:\n",
        "                    self.left.insert(data)\n",
        "                if data > self.data:\n",
        "                    if self.right == None:\n",
        "                        self.right = Tree(data)\n",
        "                    else:\n",
        "                        self.right.insert(data)\n",
        "        else:\n",
        "            self.data = data\n",
        "\n",
        "\n",
        "    def PrintTree(self):\n",
        "        if self.left:\n",
        "            self.left.PrintTree()\n",
        "        print( self.data),\n",
        "        if self.right:\n",
        "            self.right.PrintTree()\n",
        "\n",
        "root = Tree(9)\n",
        "root.insert(5)\n",
        "root.insert(4)\n",
        "root.insert(3)\n",
        "root.insert(1)\n",
        "root.PrintTree()\n",
        "\n",
        "        "
      ]
    },
    {
      "cell_type": "markdown",
      "id": "42bfc483",
      "metadata": {
        "id": "42bfc483"
      },
      "source": [
        "## 1.3.1 Пример\n",
        "\n",
        "\n",
        "\n"
      ]
    },
    {
      "cell_type": "code",
      "execution_count": 24,
      "id": "86391a15",
      "metadata": {
        "colab": {
          "base_uri": "https://localhost:8080/",
          "height": 424
        },
        "id": "86391a15",
        "outputId": "914315ee-e30c-4d97-80d3-3ea7e681e06d"
      },
      "outputs": [
        {
          "output_type": "execute_result",
          "data": {
            "text/plain": [
              "     sepal_length  sepal_width  petal_length  petal_width    species\n",
              "0             5.1          3.5           1.4          0.2     setosa\n",
              "1             4.9          3.0           1.4          0.2     setosa\n",
              "2             4.7          3.2           1.3          0.2     setosa\n",
              "3             4.6          3.1           1.5          0.2     setosa\n",
              "4             5.0          3.6           1.4          0.2     setosa\n",
              "..            ...          ...           ...          ...        ...\n",
              "145           6.7          3.0           5.2          2.3  virginica\n",
              "146           6.3          2.5           5.0          1.9  virginica\n",
              "147           6.5          3.0           5.2          2.0  virginica\n",
              "148           6.2          3.4           5.4          2.3  virginica\n",
              "149           5.9          3.0           5.1          1.8  virginica\n",
              "\n",
              "[150 rows x 5 columns]"
            ],
            "text/html": [
              "\n",
              "  <div id=\"df-68813fbf-602a-471e-aea5-14427cebd319\">\n",
              "    <div class=\"colab-df-container\">\n",
              "      <div>\n",
              "<style scoped>\n",
              "    .dataframe tbody tr th:only-of-type {\n",
              "        vertical-align: middle;\n",
              "    }\n",
              "\n",
              "    .dataframe tbody tr th {\n",
              "        vertical-align: top;\n",
              "    }\n",
              "\n",
              "    .dataframe thead th {\n",
              "        text-align: right;\n",
              "    }\n",
              "</style>\n",
              "<table border=\"1\" class=\"dataframe\">\n",
              "  <thead>\n",
              "    <tr style=\"text-align: right;\">\n",
              "      <th></th>\n",
              "      <th>sepal_length</th>\n",
              "      <th>sepal_width</th>\n",
              "      <th>petal_length</th>\n",
              "      <th>petal_width</th>\n",
              "      <th>species</th>\n",
              "    </tr>\n",
              "  </thead>\n",
              "  <tbody>\n",
              "    <tr>\n",
              "      <th>0</th>\n",
              "      <td>5.1</td>\n",
              "      <td>3.5</td>\n",
              "      <td>1.4</td>\n",
              "      <td>0.2</td>\n",
              "      <td>setosa</td>\n",
              "    </tr>\n",
              "    <tr>\n",
              "      <th>1</th>\n",
              "      <td>4.9</td>\n",
              "      <td>3.0</td>\n",
              "      <td>1.4</td>\n",
              "      <td>0.2</td>\n",
              "      <td>setosa</td>\n",
              "    </tr>\n",
              "    <tr>\n",
              "      <th>2</th>\n",
              "      <td>4.7</td>\n",
              "      <td>3.2</td>\n",
              "      <td>1.3</td>\n",
              "      <td>0.2</td>\n",
              "      <td>setosa</td>\n",
              "    </tr>\n",
              "    <tr>\n",
              "      <th>3</th>\n",
              "      <td>4.6</td>\n",
              "      <td>3.1</td>\n",
              "      <td>1.5</td>\n",
              "      <td>0.2</td>\n",
              "      <td>setosa</td>\n",
              "    </tr>\n",
              "    <tr>\n",
              "      <th>4</th>\n",
              "      <td>5.0</td>\n",
              "      <td>3.6</td>\n",
              "      <td>1.4</td>\n",
              "      <td>0.2</td>\n",
              "      <td>setosa</td>\n",
              "    </tr>\n",
              "    <tr>\n",
              "      <th>...</th>\n",
              "      <td>...</td>\n",
              "      <td>...</td>\n",
              "      <td>...</td>\n",
              "      <td>...</td>\n",
              "      <td>...</td>\n",
              "    </tr>\n",
              "    <tr>\n",
              "      <th>145</th>\n",
              "      <td>6.7</td>\n",
              "      <td>3.0</td>\n",
              "      <td>5.2</td>\n",
              "      <td>2.3</td>\n",
              "      <td>virginica</td>\n",
              "    </tr>\n",
              "    <tr>\n",
              "      <th>146</th>\n",
              "      <td>6.3</td>\n",
              "      <td>2.5</td>\n",
              "      <td>5.0</td>\n",
              "      <td>1.9</td>\n",
              "      <td>virginica</td>\n",
              "    </tr>\n",
              "    <tr>\n",
              "      <th>147</th>\n",
              "      <td>6.5</td>\n",
              "      <td>3.0</td>\n",
              "      <td>5.2</td>\n",
              "      <td>2.0</td>\n",
              "      <td>virginica</td>\n",
              "    </tr>\n",
              "    <tr>\n",
              "      <th>148</th>\n",
              "      <td>6.2</td>\n",
              "      <td>3.4</td>\n",
              "      <td>5.4</td>\n",
              "      <td>2.3</td>\n",
              "      <td>virginica</td>\n",
              "    </tr>\n",
              "    <tr>\n",
              "      <th>149</th>\n",
              "      <td>5.9</td>\n",
              "      <td>3.0</td>\n",
              "      <td>5.1</td>\n",
              "      <td>1.8</td>\n",
              "      <td>virginica</td>\n",
              "    </tr>\n",
              "  </tbody>\n",
              "</table>\n",
              "<p>150 rows × 5 columns</p>\n",
              "</div>\n",
              "      <button class=\"colab-df-convert\" onclick=\"convertToInteractive('df-68813fbf-602a-471e-aea5-14427cebd319')\"\n",
              "              title=\"Convert this dataframe to an interactive table.\"\n",
              "              style=\"display:none;\">\n",
              "        \n",
              "  <svg xmlns=\"http://www.w3.org/2000/svg\" height=\"24px\"viewBox=\"0 0 24 24\"\n",
              "       width=\"24px\">\n",
              "    <path d=\"M0 0h24v24H0V0z\" fill=\"none\"/>\n",
              "    <path d=\"M18.56 5.44l.94 2.06.94-2.06 2.06-.94-2.06-.94-.94-2.06-.94 2.06-2.06.94zm-11 1L8.5 8.5l.94-2.06 2.06-.94-2.06-.94L8.5 2.5l-.94 2.06-2.06.94zm10 10l.94 2.06.94-2.06 2.06-.94-2.06-.94-.94-2.06-.94 2.06-2.06.94z\"/><path d=\"M17.41 7.96l-1.37-1.37c-.4-.4-.92-.59-1.43-.59-.52 0-1.04.2-1.43.59L10.3 9.45l-7.72 7.72c-.78.78-.78 2.05 0 2.83L4 21.41c.39.39.9.59 1.41.59.51 0 1.02-.2 1.41-.59l7.78-7.78 2.81-2.81c.8-.78.8-2.07 0-2.86zM5.41 20L4 18.59l7.72-7.72 1.47 1.35L5.41 20z\"/>\n",
              "  </svg>\n",
              "      </button>\n",
              "      \n",
              "  <style>\n",
              "    .colab-df-container {\n",
              "      display:flex;\n",
              "      flex-wrap:wrap;\n",
              "      gap: 12px;\n",
              "    }\n",
              "\n",
              "    .colab-df-convert {\n",
              "      background-color: #E8F0FE;\n",
              "      border: none;\n",
              "      border-radius: 50%;\n",
              "      cursor: pointer;\n",
              "      display: none;\n",
              "      fill: #1967D2;\n",
              "      height: 32px;\n",
              "      padding: 0 0 0 0;\n",
              "      width: 32px;\n",
              "    }\n",
              "\n",
              "    .colab-df-convert:hover {\n",
              "      background-color: #E2EBFA;\n",
              "      box-shadow: 0px 1px 2px rgba(60, 64, 67, 0.3), 0px 1px 3px 1px rgba(60, 64, 67, 0.15);\n",
              "      fill: #174EA6;\n",
              "    }\n",
              "\n",
              "    [theme=dark] .colab-df-convert {\n",
              "      background-color: #3B4455;\n",
              "      fill: #D2E3FC;\n",
              "    }\n",
              "\n",
              "    [theme=dark] .colab-df-convert:hover {\n",
              "      background-color: #434B5C;\n",
              "      box-shadow: 0px 1px 3px 1px rgba(0, 0, 0, 0.15);\n",
              "      filter: drop-shadow(0px 1px 2px rgba(0, 0, 0, 0.3));\n",
              "      fill: #FFFFFF;\n",
              "    }\n",
              "  </style>\n",
              "\n",
              "      <script>\n",
              "        const buttonEl =\n",
              "          document.querySelector('#df-68813fbf-602a-471e-aea5-14427cebd319 button.colab-df-convert');\n",
              "        buttonEl.style.display =\n",
              "          google.colab.kernel.accessAllowed ? 'block' : 'none';\n",
              "\n",
              "        async function convertToInteractive(key) {\n",
              "          const element = document.querySelector('#df-68813fbf-602a-471e-aea5-14427cebd319');\n",
              "          const dataTable =\n",
              "            await google.colab.kernel.invokeFunction('convertToInteractive',\n",
              "                                                     [key], {});\n",
              "          if (!dataTable) return;\n",
              "\n",
              "          const docLinkHtml = 'Like what you see? Visit the ' +\n",
              "            '<a target=\"_blank\" href=https://colab.research.google.com/notebooks/data_table.ipynb>data table notebook</a>'\n",
              "            + ' to learn more about interactive tables.';\n",
              "          element.innerHTML = '';\n",
              "          dataTable['output_type'] = 'display_data';\n",
              "          await google.colab.output.renderOutput(dataTable, element);\n",
              "          const docLink = document.createElement('div');\n",
              "          docLink.innerHTML = docLinkHtml;\n",
              "          element.appendChild(docLink);\n",
              "        }\n",
              "      </script>\n",
              "    </div>\n",
              "  </div>\n",
              "  "
            ]
          },
          "metadata": {},
          "execution_count": 24
        }
      ],
      "source": [
        "import pandas as pd \n",
        "import numpy as np\n",
        "import seaborn as sns\n",
        "import matplotlib.pyplot as plt\n",
        "\n",
        "dataset = sns.load_dataset('iris')\n",
        "dataset"
      ]
    },
    {
      "cell_type": "code",
      "source": [
        "dataset.shape"
      ],
      "metadata": {
        "colab": {
          "base_uri": "https://localhost:8080/"
        },
        "id": "uOgUyAYjPNLf",
        "outputId": "0ed2b525-340a-427d-d969-333fd4e1951b"
      },
      "id": "uOgUyAYjPNLf",
      "execution_count": 23,
      "outputs": [
        {
          "output_type": "execute_result",
          "data": {
            "text/plain": [
              "(150, 5)"
            ]
          },
          "metadata": {},
          "execution_count": 23
        }
      ]
    },
    {
      "cell_type": "code",
      "source": [
        "dataset.head()"
      ],
      "metadata": {
        "colab": {
          "base_uri": "https://localhost:8080/",
          "height": 206
        },
        "id": "vGiOuEmhPQrV",
        "outputId": "9ed194f9-d0ab-4b33-84a1-67e8d41cb4bb"
      },
      "id": "vGiOuEmhPQrV",
      "execution_count": 25,
      "outputs": [
        {
          "output_type": "execute_result",
          "data": {
            "text/plain": [
              "   sepal_length  sepal_width  petal_length  petal_width species\n",
              "0           5.1          3.5           1.4          0.2  setosa\n",
              "1           4.9          3.0           1.4          0.2  setosa\n",
              "2           4.7          3.2           1.3          0.2  setosa\n",
              "3           4.6          3.1           1.5          0.2  setosa\n",
              "4           5.0          3.6           1.4          0.2  setosa"
            ],
            "text/html": [
              "\n",
              "  <div id=\"df-c2b94dd1-812c-4965-8213-3fcc4b0a54db\">\n",
              "    <div class=\"colab-df-container\">\n",
              "      <div>\n",
              "<style scoped>\n",
              "    .dataframe tbody tr th:only-of-type {\n",
              "        vertical-align: middle;\n",
              "    }\n",
              "\n",
              "    .dataframe tbody tr th {\n",
              "        vertical-align: top;\n",
              "    }\n",
              "\n",
              "    .dataframe thead th {\n",
              "        text-align: right;\n",
              "    }\n",
              "</style>\n",
              "<table border=\"1\" class=\"dataframe\">\n",
              "  <thead>\n",
              "    <tr style=\"text-align: right;\">\n",
              "      <th></th>\n",
              "      <th>sepal_length</th>\n",
              "      <th>sepal_width</th>\n",
              "      <th>petal_length</th>\n",
              "      <th>petal_width</th>\n",
              "      <th>species</th>\n",
              "    </tr>\n",
              "  </thead>\n",
              "  <tbody>\n",
              "    <tr>\n",
              "      <th>0</th>\n",
              "      <td>5.1</td>\n",
              "      <td>3.5</td>\n",
              "      <td>1.4</td>\n",
              "      <td>0.2</td>\n",
              "      <td>setosa</td>\n",
              "    </tr>\n",
              "    <tr>\n",
              "      <th>1</th>\n",
              "      <td>4.9</td>\n",
              "      <td>3.0</td>\n",
              "      <td>1.4</td>\n",
              "      <td>0.2</td>\n",
              "      <td>setosa</td>\n",
              "    </tr>\n",
              "    <tr>\n",
              "      <th>2</th>\n",
              "      <td>4.7</td>\n",
              "      <td>3.2</td>\n",
              "      <td>1.3</td>\n",
              "      <td>0.2</td>\n",
              "      <td>setosa</td>\n",
              "    </tr>\n",
              "    <tr>\n",
              "      <th>3</th>\n",
              "      <td>4.6</td>\n",
              "      <td>3.1</td>\n",
              "      <td>1.5</td>\n",
              "      <td>0.2</td>\n",
              "      <td>setosa</td>\n",
              "    </tr>\n",
              "    <tr>\n",
              "      <th>4</th>\n",
              "      <td>5.0</td>\n",
              "      <td>3.6</td>\n",
              "      <td>1.4</td>\n",
              "      <td>0.2</td>\n",
              "      <td>setosa</td>\n",
              "    </tr>\n",
              "  </tbody>\n",
              "</table>\n",
              "</div>\n",
              "      <button class=\"colab-df-convert\" onclick=\"convertToInteractive('df-c2b94dd1-812c-4965-8213-3fcc4b0a54db')\"\n",
              "              title=\"Convert this dataframe to an interactive table.\"\n",
              "              style=\"display:none;\">\n",
              "        \n",
              "  <svg xmlns=\"http://www.w3.org/2000/svg\" height=\"24px\"viewBox=\"0 0 24 24\"\n",
              "       width=\"24px\">\n",
              "    <path d=\"M0 0h24v24H0V0z\" fill=\"none\"/>\n",
              "    <path d=\"M18.56 5.44l.94 2.06.94-2.06 2.06-.94-2.06-.94-.94-2.06-.94 2.06-2.06.94zm-11 1L8.5 8.5l.94-2.06 2.06-.94-2.06-.94L8.5 2.5l-.94 2.06-2.06.94zm10 10l.94 2.06.94-2.06 2.06-.94-2.06-.94-.94-2.06-.94 2.06-2.06.94z\"/><path d=\"M17.41 7.96l-1.37-1.37c-.4-.4-.92-.59-1.43-.59-.52 0-1.04.2-1.43.59L10.3 9.45l-7.72 7.72c-.78.78-.78 2.05 0 2.83L4 21.41c.39.39.9.59 1.41.59.51 0 1.02-.2 1.41-.59l7.78-7.78 2.81-2.81c.8-.78.8-2.07 0-2.86zM5.41 20L4 18.59l7.72-7.72 1.47 1.35L5.41 20z\"/>\n",
              "  </svg>\n",
              "      </button>\n",
              "      \n",
              "  <style>\n",
              "    .colab-df-container {\n",
              "      display:flex;\n",
              "      flex-wrap:wrap;\n",
              "      gap: 12px;\n",
              "    }\n",
              "\n",
              "    .colab-df-convert {\n",
              "      background-color: #E8F0FE;\n",
              "      border: none;\n",
              "      border-radius: 50%;\n",
              "      cursor: pointer;\n",
              "      display: none;\n",
              "      fill: #1967D2;\n",
              "      height: 32px;\n",
              "      padding: 0 0 0 0;\n",
              "      width: 32px;\n",
              "    }\n",
              "\n",
              "    .colab-df-convert:hover {\n",
              "      background-color: #E2EBFA;\n",
              "      box-shadow: 0px 1px 2px rgba(60, 64, 67, 0.3), 0px 1px 3px 1px rgba(60, 64, 67, 0.15);\n",
              "      fill: #174EA6;\n",
              "    }\n",
              "\n",
              "    [theme=dark] .colab-df-convert {\n",
              "      background-color: #3B4455;\n",
              "      fill: #D2E3FC;\n",
              "    }\n",
              "\n",
              "    [theme=dark] .colab-df-convert:hover {\n",
              "      background-color: #434B5C;\n",
              "      box-shadow: 0px 1px 3px 1px rgba(0, 0, 0, 0.15);\n",
              "      filter: drop-shadow(0px 1px 2px rgba(0, 0, 0, 0.3));\n",
              "      fill: #FFFFFF;\n",
              "    }\n",
              "  </style>\n",
              "\n",
              "      <script>\n",
              "        const buttonEl =\n",
              "          document.querySelector('#df-c2b94dd1-812c-4965-8213-3fcc4b0a54db button.colab-df-convert');\n",
              "        buttonEl.style.display =\n",
              "          google.colab.kernel.accessAllowed ? 'block' : 'none';\n",
              "\n",
              "        async function convertToInteractive(key) {\n",
              "          const element = document.querySelector('#df-c2b94dd1-812c-4965-8213-3fcc4b0a54db');\n",
              "          const dataTable =\n",
              "            await google.colab.kernel.invokeFunction('convertToInteractive',\n",
              "                                                     [key], {});\n",
              "          if (!dataTable) return;\n",
              "\n",
              "          const docLinkHtml = 'Like what you see? Visit the ' +\n",
              "            '<a target=\"_blank\" href=https://colab.research.google.com/notebooks/data_table.ipynb>data table notebook</a>'\n",
              "            + ' to learn more about interactive tables.';\n",
              "          element.innerHTML = '';\n",
              "          dataTable['output_type'] = 'display_data';\n",
              "          await google.colab.output.renderOutput(dataTable, element);\n",
              "          const docLink = document.createElement('div');\n",
              "          docLink.innerHTML = docLinkHtml;\n",
              "          element.appendChild(docLink);\n",
              "        }\n",
              "      </script>\n",
              "    </div>\n",
              "  </div>\n",
              "  "
            ]
          },
          "metadata": {},
          "execution_count": 25
        }
      ]
    },
    {
      "cell_type": "code",
      "execution_count": 26,
      "id": "11cd7a0f",
      "metadata": {
        "colab": {
          "base_uri": "https://localhost:8080/"
        },
        "id": "11cd7a0f",
        "outputId": "99fa7b01-3d17-4372-e607-623e93e07dab"
      },
      "outputs": [
        {
          "output_type": "execute_result",
          "data": {
            "text/plain": [
              "(     sepal_length  sepal_width  petal_length  petal_width\n",
              " 1             4.9          3.0           1.4          0.2\n",
              " 37            4.9          3.6           1.4          0.1\n",
              " 38            4.4          3.0           1.3          0.2\n",
              " 21            5.1          3.7           1.5          0.4\n",
              " 66            5.6          3.0           4.5          1.5\n",
              " ..            ...          ...           ...          ...\n",
              " 56            6.3          3.3           4.7          1.6\n",
              " 137           6.4          3.1           5.5          1.8\n",
              " 121           5.6          2.8           4.9          2.0\n",
              " 19            5.1          3.8           1.5          0.3\n",
              " 139           6.9          3.1           5.4          2.1\n",
              " \n",
              " [120 rows x 4 columns],\n",
              "      sepal_length  sepal_width  petal_length  petal_width\n",
              " 73            6.1          2.8           4.7          1.2\n",
              " 29            4.7          3.2           1.6          0.2\n",
              " 99            5.7          2.8           4.1          1.3\n",
              " 140           6.7          3.1           5.6          2.4\n",
              " 102           7.1          3.0           5.9          2.1\n",
              " 114           5.8          2.8           5.1          2.4\n",
              " 86            6.7          3.1           4.7          1.5\n",
              " 131           7.9          3.8           6.4          2.0\n",
              " 43            5.0          3.5           1.6          0.6\n",
              " 143           6.8          3.2           5.9          2.3\n",
              " 72            6.3          2.5           4.9          1.5\n",
              " 145           6.7          3.0           5.2          2.3\n",
              " 146           6.3          2.5           5.0          1.9\n",
              " 147           6.5          3.0           5.2          2.0\n",
              " 77            6.7          3.0           5.0          1.7\n",
              " 2             4.7          3.2           1.3          0.2\n",
              " 36            5.5          3.5           1.3          0.2\n",
              " 33            5.5          4.2           1.4          0.2\n",
              " 69            5.6          2.5           3.9          1.1\n",
              " 52            6.9          3.1           4.9          1.5\n",
              " 106           4.9          2.5           4.5          1.7\n",
              " 40            5.0          3.5           1.3          0.3\n",
              " 116           6.5          3.0           5.5          1.8\n",
              " 136           6.3          3.4           5.6          2.4\n",
              " 42            4.4          3.2           1.3          0.2\n",
              " 24            4.8          3.4           1.9          0.2\n",
              " 39            5.1          3.4           1.5          0.2\n",
              " 41            4.5          2.3           1.3          0.3\n",
              " 109           7.2          3.6           6.1          2.5\n",
              " 129           7.2          3.0           5.8          1.6,\n",
              " (120,),\n",
              " (30,))"
            ]
          },
          "metadata": {},
          "execution_count": 26
        }
      ],
      "source": [
        "from sklearn.model_selection import train_test_split\n",
        "\n",
        "X_train, X_test, y_train, y_test= train_test_split(\n",
        "    # поскольку iris это работа pandas-таблица, для нее нужно указывать iloc \n",
        "    dataset.iloc[:,:-1], # берем все колонки кроме последней в признаки\n",
        "    dataset.iloc[:,-1], # последнюю в целую пременную (класс)\n",
        "    test_size=0.20 # размертестовой выборки\n",
        ")\n",
        "X_train, X_test, y_train.shape, y_test.shape"
      ]
    },
    {
      "cell_type": "code",
      "source": [
        "X_train.head()\n"
      ],
      "metadata": {
        "colab": {
          "base_uri": "https://localhost:8080/",
          "height": 206
        },
        "id": "esaSo1tpPYJj",
        "outputId": "070ced00-3824-476a-a9a1-0904c87acef7"
      },
      "id": "esaSo1tpPYJj",
      "execution_count": 27,
      "outputs": [
        {
          "output_type": "execute_result",
          "data": {
            "text/plain": [
              "    sepal_length  sepal_width  petal_length  petal_width\n",
              "1            4.9          3.0           1.4          0.2\n",
              "37           4.9          3.6           1.4          0.1\n",
              "38           4.4          3.0           1.3          0.2\n",
              "21           5.1          3.7           1.5          0.4\n",
              "66           5.6          3.0           4.5          1.5"
            ],
            "text/html": [
              "\n",
              "  <div id=\"df-e1625efb-e285-483a-b430-3edc49a5fc0f\">\n",
              "    <div class=\"colab-df-container\">\n",
              "      <div>\n",
              "<style scoped>\n",
              "    .dataframe tbody tr th:only-of-type {\n",
              "        vertical-align: middle;\n",
              "    }\n",
              "\n",
              "    .dataframe tbody tr th {\n",
              "        vertical-align: top;\n",
              "    }\n",
              "\n",
              "    .dataframe thead th {\n",
              "        text-align: right;\n",
              "    }\n",
              "</style>\n",
              "<table border=\"1\" class=\"dataframe\">\n",
              "  <thead>\n",
              "    <tr style=\"text-align: right;\">\n",
              "      <th></th>\n",
              "      <th>sepal_length</th>\n",
              "      <th>sepal_width</th>\n",
              "      <th>petal_length</th>\n",
              "      <th>petal_width</th>\n",
              "    </tr>\n",
              "  </thead>\n",
              "  <tbody>\n",
              "    <tr>\n",
              "      <th>1</th>\n",
              "      <td>4.9</td>\n",
              "      <td>3.0</td>\n",
              "      <td>1.4</td>\n",
              "      <td>0.2</td>\n",
              "    </tr>\n",
              "    <tr>\n",
              "      <th>37</th>\n",
              "      <td>4.9</td>\n",
              "      <td>3.6</td>\n",
              "      <td>1.4</td>\n",
              "      <td>0.1</td>\n",
              "    </tr>\n",
              "    <tr>\n",
              "      <th>38</th>\n",
              "      <td>4.4</td>\n",
              "      <td>3.0</td>\n",
              "      <td>1.3</td>\n",
              "      <td>0.2</td>\n",
              "    </tr>\n",
              "    <tr>\n",
              "      <th>21</th>\n",
              "      <td>5.1</td>\n",
              "      <td>3.7</td>\n",
              "      <td>1.5</td>\n",
              "      <td>0.4</td>\n",
              "    </tr>\n",
              "    <tr>\n",
              "      <th>66</th>\n",
              "      <td>5.6</td>\n",
              "      <td>3.0</td>\n",
              "      <td>4.5</td>\n",
              "      <td>1.5</td>\n",
              "    </tr>\n",
              "  </tbody>\n",
              "</table>\n",
              "</div>\n",
              "      <button class=\"colab-df-convert\" onclick=\"convertToInteractive('df-e1625efb-e285-483a-b430-3edc49a5fc0f')\"\n",
              "              title=\"Convert this dataframe to an interactive table.\"\n",
              "              style=\"display:none;\">\n",
              "        \n",
              "  <svg xmlns=\"http://www.w3.org/2000/svg\" height=\"24px\"viewBox=\"0 0 24 24\"\n",
              "       width=\"24px\">\n",
              "    <path d=\"M0 0h24v24H0V0z\" fill=\"none\"/>\n",
              "    <path d=\"M18.56 5.44l.94 2.06.94-2.06 2.06-.94-2.06-.94-.94-2.06-.94 2.06-2.06.94zm-11 1L8.5 8.5l.94-2.06 2.06-.94-2.06-.94L8.5 2.5l-.94 2.06-2.06.94zm10 10l.94 2.06.94-2.06 2.06-.94-2.06-.94-.94-2.06-.94 2.06-2.06.94z\"/><path d=\"M17.41 7.96l-1.37-1.37c-.4-.4-.92-.59-1.43-.59-.52 0-1.04.2-1.43.59L10.3 9.45l-7.72 7.72c-.78.78-.78 2.05 0 2.83L4 21.41c.39.39.9.59 1.41.59.51 0 1.02-.2 1.41-.59l7.78-7.78 2.81-2.81c.8-.78.8-2.07 0-2.86zM5.41 20L4 18.59l7.72-7.72 1.47 1.35L5.41 20z\"/>\n",
              "  </svg>\n",
              "      </button>\n",
              "      \n",
              "  <style>\n",
              "    .colab-df-container {\n",
              "      display:flex;\n",
              "      flex-wrap:wrap;\n",
              "      gap: 12px;\n",
              "    }\n",
              "\n",
              "    .colab-df-convert {\n",
              "      background-color: #E8F0FE;\n",
              "      border: none;\n",
              "      border-radius: 50%;\n",
              "      cursor: pointer;\n",
              "      display: none;\n",
              "      fill: #1967D2;\n",
              "      height: 32px;\n",
              "      padding: 0 0 0 0;\n",
              "      width: 32px;\n",
              "    }\n",
              "\n",
              "    .colab-df-convert:hover {\n",
              "      background-color: #E2EBFA;\n",
              "      box-shadow: 0px 1px 2px rgba(60, 64, 67, 0.3), 0px 1px 3px 1px rgba(60, 64, 67, 0.15);\n",
              "      fill: #174EA6;\n",
              "    }\n",
              "\n",
              "    [theme=dark] .colab-df-convert {\n",
              "      background-color: #3B4455;\n",
              "      fill: #D2E3FC;\n",
              "    }\n",
              "\n",
              "    [theme=dark] .colab-df-convert:hover {\n",
              "      background-color: #434B5C;\n",
              "      box-shadow: 0px 1px 3px 1px rgba(0, 0, 0, 0.15);\n",
              "      filter: drop-shadow(0px 1px 2px rgba(0, 0, 0, 0.3));\n",
              "      fill: #FFFFFF;\n",
              "    }\n",
              "  </style>\n",
              "\n",
              "      <script>\n",
              "        const buttonEl =\n",
              "          document.querySelector('#df-e1625efb-e285-483a-b430-3edc49a5fc0f button.colab-df-convert');\n",
              "        buttonEl.style.display =\n",
              "          google.colab.kernel.accessAllowed ? 'block' : 'none';\n",
              "\n",
              "        async function convertToInteractive(key) {\n",
              "          const element = document.querySelector('#df-e1625efb-e285-483a-b430-3edc49a5fc0f');\n",
              "          const dataTable =\n",
              "            await google.colab.kernel.invokeFunction('convertToInteractive',\n",
              "                                                     [key], {});\n",
              "          if (!dataTable) return;\n",
              "\n",
              "          const docLinkHtml = 'Like what you see? Visit the ' +\n",
              "            '<a target=\"_blank\" href=https://colab.research.google.com/notebooks/data_table.ipynb>data table notebook</a>'\n",
              "            + ' to learn more about interactive tables.';\n",
              "          element.innerHTML = '';\n",
              "          dataTable['output_type'] = 'display_data';\n",
              "          await google.colab.output.renderOutput(dataTable, element);\n",
              "          const docLink = document.createElement('div');\n",
              "          docLink.innerHTML = docLinkHtml;\n",
              "          element.appendChild(docLink);\n",
              "        }\n",
              "      </script>\n",
              "    </div>\n",
              "  </div>\n",
              "  "
            ]
          },
          "metadata": {},
          "execution_count": 27
        }
      ]
    },
    {
      "cell_type": "code",
      "source": [
        "y_train.head()"
      ],
      "metadata": {
        "colab": {
          "base_uri": "https://localhost:8080/"
        },
        "id": "mGfBXlBrPZb-",
        "outputId": "14ce6733-6fee-4b8a-a563-c64444f29ba6"
      },
      "id": "mGfBXlBrPZb-",
      "execution_count": 28,
      "outputs": [
        {
          "output_type": "execute_result",
          "data": {
            "text/plain": [
              "1         setosa\n",
              "37        setosa\n",
              "38        setosa\n",
              "21        setosa\n",
              "66    versicolor\n",
              "Name: species, dtype: object"
            ]
          },
          "metadata": {},
          "execution_count": 28
        }
      ]
    },
    {
      "cell_type": "code",
      "execution_count": 29,
      "id": "c3c639e1",
      "metadata": {
        "colab": {
          "base_uri": "https://localhost:8080/",
          "height": 75
        },
        "id": "c3c639e1",
        "outputId": "293d8f55-aeeb-4237-ad9b-92998c43b8e5"
      },
      "outputs": [
        {
          "output_type": "execute_result",
          "data": {
            "text/plain": [
              "DecisionTreeClassifier()"
            ],
            "text/html": [
              "<style>#sk-container-id-1 {color: black;background-color: white;}#sk-container-id-1 pre{padding: 0;}#sk-container-id-1 div.sk-toggleable {background-color: white;}#sk-container-id-1 label.sk-toggleable__label {cursor: pointer;display: block;width: 100%;margin-bottom: 0;padding: 0.3em;box-sizing: border-box;text-align: center;}#sk-container-id-1 label.sk-toggleable__label-arrow:before {content: \"▸\";float: left;margin-right: 0.25em;color: #696969;}#sk-container-id-1 label.sk-toggleable__label-arrow:hover:before {color: black;}#sk-container-id-1 div.sk-estimator:hover label.sk-toggleable__label-arrow:before {color: black;}#sk-container-id-1 div.sk-toggleable__content {max-height: 0;max-width: 0;overflow: hidden;text-align: left;background-color: #f0f8ff;}#sk-container-id-1 div.sk-toggleable__content pre {margin: 0.2em;color: black;border-radius: 0.25em;background-color: #f0f8ff;}#sk-container-id-1 input.sk-toggleable__control:checked~div.sk-toggleable__content {max-height: 200px;max-width: 100%;overflow: auto;}#sk-container-id-1 input.sk-toggleable__control:checked~label.sk-toggleable__label-arrow:before {content: \"▾\";}#sk-container-id-1 div.sk-estimator input.sk-toggleable__control:checked~label.sk-toggleable__label {background-color: #d4ebff;}#sk-container-id-1 div.sk-label input.sk-toggleable__control:checked~label.sk-toggleable__label {background-color: #d4ebff;}#sk-container-id-1 input.sk-hidden--visually {border: 0;clip: rect(1px 1px 1px 1px);clip: rect(1px, 1px, 1px, 1px);height: 1px;margin: -1px;overflow: hidden;padding: 0;position: absolute;width: 1px;}#sk-container-id-1 div.sk-estimator {font-family: monospace;background-color: #f0f8ff;border: 1px dotted black;border-radius: 0.25em;box-sizing: border-box;margin-bottom: 0.5em;}#sk-container-id-1 div.sk-estimator:hover {background-color: #d4ebff;}#sk-container-id-1 div.sk-parallel-item::after {content: \"\";width: 100%;border-bottom: 1px solid gray;flex-grow: 1;}#sk-container-id-1 div.sk-label:hover label.sk-toggleable__label {background-color: #d4ebff;}#sk-container-id-1 div.sk-serial::before {content: \"\";position: absolute;border-left: 1px solid gray;box-sizing: border-box;top: 0;bottom: 0;left: 50%;z-index: 0;}#sk-container-id-1 div.sk-serial {display: flex;flex-direction: column;align-items: center;background-color: white;padding-right: 0.2em;padding-left: 0.2em;position: relative;}#sk-container-id-1 div.sk-item {position: relative;z-index: 1;}#sk-container-id-1 div.sk-parallel {display: flex;align-items: stretch;justify-content: center;background-color: white;position: relative;}#sk-container-id-1 div.sk-item::before, #sk-container-id-1 div.sk-parallel-item::before {content: \"\";position: absolute;border-left: 1px solid gray;box-sizing: border-box;top: 0;bottom: 0;left: 50%;z-index: -1;}#sk-container-id-1 div.sk-parallel-item {display: flex;flex-direction: column;z-index: 1;position: relative;background-color: white;}#sk-container-id-1 div.sk-parallel-item:first-child::after {align-self: flex-end;width: 50%;}#sk-container-id-1 div.sk-parallel-item:last-child::after {align-self: flex-start;width: 50%;}#sk-container-id-1 div.sk-parallel-item:only-child::after {width: 0;}#sk-container-id-1 div.sk-dashed-wrapped {border: 1px dashed gray;margin: 0 0.4em 0.5em 0.4em;box-sizing: border-box;padding-bottom: 0.4em;background-color: white;}#sk-container-id-1 div.sk-label label {font-family: monospace;font-weight: bold;display: inline-block;line-height: 1.2em;}#sk-container-id-1 div.sk-label-container {text-align: center;}#sk-container-id-1 div.sk-container {/* jupyter's `normalize.less` sets `[hidden] { display: none; }` but bootstrap.min.css set `[hidden] { display: none !important; }` so we also need the `!important` here to be able to override the default hidden behavior on the sphinx rendered scikit-learn.org. See: https://github.com/scikit-learn/scikit-learn/issues/21755 */display: inline-block !important;position: relative;}#sk-container-id-1 div.sk-text-repr-fallback {display: none;}</style><div id=\"sk-container-id-1\" class=\"sk-top-container\"><div class=\"sk-text-repr-fallback\"><pre>DecisionTreeClassifier()</pre><b>In a Jupyter environment, please rerun this cell to show the HTML representation or trust the notebook. <br />On GitHub, the HTML representation is unable to render, please try loading this page with nbviewer.org.</b></div><div class=\"sk-container\" hidden><div class=\"sk-item\"><div class=\"sk-estimator sk-toggleable\"><input class=\"sk-toggleable__control sk-hidden--visually\" id=\"sk-estimator-id-1\" type=\"checkbox\" checked><label for=\"sk-estimator-id-1\" class=\"sk-toggleable__label sk-toggleable__label-arrow\">DecisionTreeClassifier</label><div class=\"sk-toggleable__content\"><pre>DecisionTreeClassifier()</pre></div></div></div></div></div>"
            ]
          },
          "metadata": {},
          "execution_count": 29
        }
      ],
      "source": [
        "from sklearn.tree import DecisionTreeClassifier\n",
        "classifier = DecisionTreeClassifier()\n",
        "classifier.fit(X_train,y_train)"
      ]
    },
    {
      "cell_type": "code",
      "execution_count": 30,
      "id": "2a7390d5",
      "metadata": {
        "colab": {
          "base_uri": "https://localhost:8080/",
          "height": 674
        },
        "id": "2a7390d5",
        "outputId": "e448c9ea-fb9a-482a-90e7-da0bd66246d3"
      },
      "outputs": [
        {
          "output_type": "execute_result",
          "data": {
            "text/plain": [
              "[Text(0.3, 0.9166666666666666, 'x[2] <= 2.45\\ngini = 0.665\\nsamples = 120\\nvalue = [40, 43, 37]'),\n",
              " Text(0.2, 0.75, 'gini = 0.0\\nsamples = 40\\nvalue = [40, 0, 0]'),\n",
              " Text(0.4, 0.75, 'x[2] <= 4.75\\ngini = 0.497\\nsamples = 80\\nvalue = [0, 43, 37]'),\n",
              " Text(0.3, 0.5833333333333334, 'gini = 0.0\\nsamples = 40\\nvalue = [0, 40, 0]'),\n",
              " Text(0.5, 0.5833333333333334, 'x[2] <= 4.85\\ngini = 0.139\\nsamples = 40\\nvalue = [0, 3, 37]'),\n",
              " Text(0.2, 0.4166666666666667, 'x[3] <= 1.6\\ngini = 0.5\\nsamples = 4\\nvalue = [0, 2, 2]'),\n",
              " Text(0.1, 0.25, 'gini = 0.0\\nsamples = 1\\nvalue = [0, 1, 0]'),\n",
              " Text(0.3, 0.25, 'x[1] <= 3.1\\ngini = 0.444\\nsamples = 3\\nvalue = [0, 1, 2]'),\n",
              " Text(0.2, 0.08333333333333333, 'gini = 0.0\\nsamples = 2\\nvalue = [0, 0, 2]'),\n",
              " Text(0.4, 0.08333333333333333, 'gini = 0.0\\nsamples = 1\\nvalue = [0, 1, 0]'),\n",
              " Text(0.8, 0.4166666666666667, 'x[3] <= 1.7\\ngini = 0.054\\nsamples = 36\\nvalue = [0, 1, 35]'),\n",
              " Text(0.7, 0.25, 'x[3] <= 1.55\\ngini = 0.375\\nsamples = 4\\nvalue = [0, 1, 3]'),\n",
              " Text(0.6, 0.08333333333333333, 'gini = 0.0\\nsamples = 3\\nvalue = [0, 0, 3]'),\n",
              " Text(0.8, 0.08333333333333333, 'gini = 0.0\\nsamples = 1\\nvalue = [0, 1, 0]'),\n",
              " Text(0.9, 0.25, 'gini = 0.0\\nsamples = 32\\nvalue = [0, 0, 32]')]"
            ]
          },
          "metadata": {},
          "execution_count": 30
        },
        {
          "output_type": "display_data",
          "data": {
            "text/plain": [
              "<Figure size 640x480 with 1 Axes>"
            ],
            "image/png": "[encoded data removed]"
          },
          "metadata": {}
        }
      ],
      "source": [
        "# теперь построим дерево решений\n",
        "from sklearn import tree\n",
        "tree.plot_tree(classifier)\n"
      ]
    },
    {
      "cell_type": "code",
      "execution_count": 31,
      "id": "03e492ce",
      "metadata": {
        "colab": {
          "base_uri": "https://localhost:8080/"
        },
        "id": "03e492ce",
        "outputId": "b9cd21b0-2213-4b34-e5da-d45608821ccb"
      },
      "outputs": [
        {
          "output_type": "execute_result",
          "data": {
            "text/plain": [
              "array(['versicolor', 'setosa', 'versicolor', 'virginica', 'virginica',\n",
              "       'virginica', 'versicolor', 'virginica', 'setosa', 'virginica',\n",
              "       'virginica', 'virginica', 'virginica', 'virginica', 'virginica',\n",
              "       'setosa', 'setosa', 'setosa', 'versicolor', 'virginica',\n",
              "       'versicolor', 'setosa', 'virginica', 'virginica', 'setosa',\n",
              "       'setosa', 'setosa', 'setosa', 'virginica', 'versicolor'],\n",
              "      dtype=object)"
            ]
          },
          "metadata": {},
          "execution_count": 31
        }
      ],
      "source": [
        "y_pred = classifier.predict(X_test)\n",
        "y_pred"
      ]
    },
    {
      "cell_type": "code",
      "execution_count": 32,
      "id": "a2ffab39",
      "metadata": {
        "scrolled": true,
        "colab": {
          "base_uri": "https://localhost:8080/"
        },
        "id": "a2ffab39",
        "outputId": "a2efda44-8f82-4df2-816d-c1778cad09c9"
      },
      "outputs": [
        {
          "output_type": "stream",
          "name": "stdout",
          "text": [
            "[[10  0  0]\n",
            " [ 0  4  3]\n",
            " [ 0  2 11]]\n",
            "              precision    recall  f1-score   support\n",
            "\n",
            "      setosa       1.00      1.00      1.00        10\n",
            "  versicolor       0.67      0.57      0.62         7\n",
            "   virginica       0.79      0.85      0.81        13\n",
            "\n",
            "    accuracy                           0.83        30\n",
            "   macro avg       0.82      0.81      0.81        30\n",
            "weighted avg       0.83      0.83      0.83        30\n",
            "\n"
          ]
        }
      ],
      "source": [
        "from sklearn.metrics import classification_report, confusion_matrix\n",
        "print(confusion_matrix(y_test,y_pred))\n",
        "print(classification_report(y_test,y_pred))"
      ]
    },
    {
      "cell_type": "markdown",
      "id": "4571f505",
      "metadata": {
        "id": "4571f505"
      },
      "source": [
        "## Задание\n"
      ]
    },
    {
      "cell_type": "code",
      "execution_count": 33,
      "id": "a2f97d10",
      "metadata": {
        "colab": {
          "base_uri": "https://localhost:8080/",
          "height": 206
        },
        "id": "a2f97d10",
        "outputId": "ce380950-7ee6-4a7a-f457-d4beb0b46fc9"
      },
      "outputs": [
        {
          "output_type": "execute_result",
          "data": {
            "text/plain": [
              "   x1  x2  y\n",
              "0  -1  -1  0\n",
              "1  -2  -1  0\n",
              "2  -3  -2  0\n",
              "3   1   1  1\n",
              "4   2   1  1"
            ],
            "text/html": [
              "\n",
              "  <div id=\"df-704945ef-25c6-4b77-bf35-0bc162dff26a\">\n",
              "    <div class=\"colab-df-container\">\n",
              "      <div>\n",
              "<style scoped>\n",
              "    .dataframe tbody tr th:only-of-type {\n",
              "        vertical-align: middle;\n",
              "    }\n",
              "\n",
              "    .dataframe tbody tr th {\n",
              "        vertical-align: top;\n",
              "    }\n",
              "\n",
              "    .dataframe thead th {\n",
              "        text-align: right;\n",
              "    }\n",
              "</style>\n",
              "<table border=\"1\" class=\"dataframe\">\n",
              "  <thead>\n",
              "    <tr style=\"text-align: right;\">\n",
              "      <th></th>\n",
              "      <th>x1</th>\n",
              "      <th>x2</th>\n",
              "      <th>y</th>\n",
              "    </tr>\n",
              "  </thead>\n",
              "  <tbody>\n",
              "    <tr>\n",
              "      <th>0</th>\n",
              "      <td>-1</td>\n",
              "      <td>-1</td>\n",
              "      <td>0</td>\n",
              "    </tr>\n",
              "    <tr>\n",
              "      <th>1</th>\n",
              "      <td>-2</td>\n",
              "      <td>-1</td>\n",
              "      <td>0</td>\n",
              "    </tr>\n",
              "    <tr>\n",
              "      <th>2</th>\n",
              "      <td>-3</td>\n",
              "      <td>-2</td>\n",
              "      <td>0</td>\n",
              "    </tr>\n",
              "    <tr>\n",
              "      <th>3</th>\n",
              "      <td>1</td>\n",
              "      <td>1</td>\n",
              "      <td>1</td>\n",
              "    </tr>\n",
              "    <tr>\n",
              "      <th>4</th>\n",
              "      <td>2</td>\n",
              "      <td>1</td>\n",
              "      <td>1</td>\n",
              "    </tr>\n",
              "  </tbody>\n",
              "</table>\n",
              "</div>\n",
              "      <button class=\"colab-df-convert\" onclick=\"convertToInteractive('df-704945ef-25c6-4b77-bf35-0bc162dff26a')\"\n",
              "              title=\"Convert this dataframe to an interactive table.\"\n",
              "              style=\"display:none;\">\n",
              "        \n",
              "  <svg xmlns=\"http://www.w3.org/2000/svg\" height=\"24px\"viewBox=\"0 0 24 24\"\n",
              "       width=\"24px\">\n",
              "    <path d=\"M0 0h24v24H0V0z\" fill=\"none\"/>\n",
              "    <path d=\"M18.56 5.44l.94 2.06.94-2.06 2.06-.94-2.06-.94-.94-2.06-.94 2.06-2.06.94zm-11 1L8.5 8.5l.94-2.06 2.06-.94-2.06-.94L8.5 2.5l-.94 2.06-2.06.94zm10 10l.94 2.06.94-2.06 2.06-.94-2.06-.94-.94-2.06-.94 2.06-2.06.94z\"/><path d=\"M17.41 7.96l-1.37-1.37c-.4-.4-.92-.59-1.43-.59-.52 0-1.04.2-1.43.59L10.3 9.45l-7.72 7.72c-.78.78-.78 2.05 0 2.83L4 21.41c.39.39.9.59 1.41.59.51 0 1.02-.2 1.41-.59l7.78-7.78 2.81-2.81c.8-.78.8-2.07 0-2.86zM5.41 20L4 18.59l7.72-7.72 1.47 1.35L5.41 20z\"/>\n",
              "  </svg>\n",
              "      </button>\n",
              "      \n",
              "  <style>\n",
              "    .colab-df-container {\n",
              "      display:flex;\n",
              "      flex-wrap:wrap;\n",
              "      gap: 12px;\n",
              "    }\n",
              "\n",
              "    .colab-df-convert {\n",
              "      background-color: #E8F0FE;\n",
              "      border: none;\n",
              "      border-radius: 50%;\n",
              "      cursor: pointer;\n",
              "      display: none;\n",
              "      fill: #1967D2;\n",
              "      height: 32px;\n",
              "      padding: 0 0 0 0;\n",
              "      width: 32px;\n",
              "    }\n",
              "\n",
              "    .colab-df-convert:hover {\n",
              "      background-color: #E2EBFA;\n",
              "      box-shadow: 0px 1px 2px rgba(60, 64, 67, 0.3), 0px 1px 3px 1px rgba(60, 64, 67, 0.15);\n",
              "      fill: #174EA6;\n",
              "    }\n",
              "\n",
              "    [theme=dark] .colab-df-convert {\n",
              "      background-color: #3B4455;\n",
              "      fill: #D2E3FC;\n",
              "    }\n",
              "\n",
              "    [theme=dark] .colab-df-convert:hover {\n",
              "      background-color: #434B5C;\n",
              "      box-shadow: 0px 1px 3px 1px rgba(0, 0, 0, 0.15);\n",
              "      filter: drop-shadow(0px 1px 2px rgba(0, 0, 0, 0.3));\n",
              "      fill: #FFFFFF;\n",
              "    }\n",
              "  </style>\n",
              "\n",
              "      <script>\n",
              "        const buttonEl =\n",
              "          document.querySelector('#df-704945ef-25c6-4b77-bf35-0bc162dff26a button.colab-df-convert');\n",
              "        buttonEl.style.display =\n",
              "          google.colab.kernel.accessAllowed ? 'block' : 'none';\n",
              "\n",
              "        async function convertToInteractive(key) {\n",
              "          const element = document.querySelector('#df-704945ef-25c6-4b77-bf35-0bc162dff26a');\n",
              "          const dataTable =\n",
              "            await google.colab.kernel.invokeFunction('convertToInteractive',\n",
              "                                                     [key], {});\n",
              "          if (!dataTable) return;\n",
              "\n",
              "          const docLinkHtml = 'Like what you see? Visit the ' +\n",
              "            '<a target=\"_blank\" href=https://colab.research.google.com/notebooks/data_table.ipynb>data table notebook</a>'\n",
              "            + ' to learn more about interactive tables.';\n",
              "          element.innerHTML = '';\n",
              "          dataTable['output_type'] = 'display_data';\n",
              "          await google.colab.output.renderOutput(dataTable, element);\n",
              "          const docLink = document.createElement('div');\n",
              "          docLink.innerHTML = docLinkHtml;\n",
              "          element.appendChild(docLink);\n",
              "        }\n",
              "      </script>\n",
              "    </div>\n",
              "  </div>\n",
              "  "
            ]
          },
          "metadata": {},
          "execution_count": 33
        }
      ],
      "source": [
        "X = np.array([[-1,-1],[-2,-1],[-3,-2],[1,1],[2,1],[3,2]])\n",
        "y = [0,0,0,1,1,1]\n",
        "\n",
        "# Импортируем необходимые библиотеки\n",
        "import pandas as pd\n",
        "import numpy as np\n",
        "import matplotlib.pyplot as plt\n",
        "import seaborn as seabornInstance\n",
        "from sklearn.model_selection import train_test_split\n",
        "from sklearn.linear_model import LinearRegression\n",
        "from sklearn import metrics\n",
        "\n",
        "# Формируем DataFrame из двух списков\n",
        "new_y = np.array(y)\n",
        "new_y = new_y.transpose()\n",
        "df1 = pd.DataFrame(new_y)\n",
        "new_X = np.array(X)\n",
        "df2 = pd.DataFrame(new_X)\n",
        "df1 = df1.rename(columns = {0 : 'y'}, inplace = False)\n",
        "df2 = df2.rename(columns = {0: 'x1', 1: 'x2', 2: 'x3'}, inplace = False)\n",
        "frames = [df2, df1]\n",
        "dataset1 = pd.concat([df2,df1], axis=1, join=\"inner\")\n",
        "dataset1.head()\n",
        "\n"
      ]
    },
    {
      "cell_type": "code",
      "execution_count": 34,
      "id": "3310b7d0",
      "metadata": {
        "colab": {
          "base_uri": "https://localhost:8080/"
        },
        "id": "3310b7d0",
        "outputId": "a4aa9706-be4a-471f-8395-c2a9ad63db7f"
      },
      "outputs": [
        {
          "output_type": "execute_result",
          "data": {
            "text/plain": [
              "3    1\n",
              "2    0\n",
              "0    0\n",
              "5    1\n",
              "Name: y, dtype: int64"
            ]
          },
          "metadata": {},
          "execution_count": 34
        }
      ],
      "source": [
        "from sklearn.model_selection import train_test_split\n",
        "\n",
        "X_train, X_test, y_train, y_test= train_test_split(\n",
        "     \n",
        "    dataset1.iloc[:,:-1], \n",
        "    dataset1.iloc[:,-1], \n",
        "    test_size=0.20\n",
        ")\n",
        "X_train, X_test, y_train.shape, y_test.shape\n",
        "X_train.head()\n",
        "y_train.head()"
      ]
    },
    {
      "cell_type": "code",
      "execution_count": 35,
      "id": "5f97c6dc",
      "metadata": {
        "colab": {
          "base_uri": "https://localhost:8080/",
          "height": 75
        },
        "id": "5f97c6dc",
        "outputId": "1878b790-548b-49a1-8018-9e21f0d108a4"
      },
      "outputs": [
        {
          "output_type": "execute_result",
          "data": {
            "text/plain": [
              "DecisionTreeClassifier()"
            ],
            "text/html": [
              "<style>#sk-container-id-2 {color: black;background-color: white;}#sk-container-id-2 pre{padding: 0;}#sk-container-id-2 div.sk-toggleable {background-color: white;}#sk-container-id-2 label.sk-toggleable__label {cursor: pointer;display: block;width: 100%;margin-bottom: 0;padding: 0.3em;box-sizing: border-box;text-align: center;}#sk-container-id-2 label.sk-toggleable__label-arrow:before {content: \"▸\";float: left;margin-right: 0.25em;color: #696969;}#sk-container-id-2 label.sk-toggleable__label-arrow:hover:before {color: black;}#sk-container-id-2 div.sk-estimator:hover label.sk-toggleable__label-arrow:before {color: black;}#sk-container-id-2 div.sk-toggleable__content {max-height: 0;max-width: 0;overflow: hidden;text-align: left;background-color: #f0f8ff;}#sk-container-id-2 div.sk-toggleable__content pre {margin: 0.2em;color: black;border-radius: 0.25em;background-color: #f0f8ff;}#sk-container-id-2 input.sk-toggleable__control:checked~div.sk-toggleable__content {max-height: 200px;max-width: 100%;overflow: auto;}#sk-container-id-2 input.sk-toggleable__control:checked~label.sk-toggleable__label-arrow:before {content: \"▾\";}#sk-container-id-2 div.sk-estimator input.sk-toggleable__control:checked~label.sk-toggleable__label {background-color: #d4ebff;}#sk-container-id-2 div.sk-label input.sk-toggleable__control:checked~label.sk-toggleable__label {background-color: #d4ebff;}#sk-container-id-2 input.sk-hidden--visually {border: 0;clip: rect(1px 1px 1px 1px);clip: rect(1px, 1px, 1px, 1px);height: 1px;margin: -1px;overflow: hidden;padding: 0;position: absolute;width: 1px;}#sk-container-id-2 div.sk-estimator {font-family: monospace;background-color: #f0f8ff;border: 1px dotted black;border-radius: 0.25em;box-sizing: border-box;margin-bottom: 0.5em;}#sk-container-id-2 div.sk-estimator:hover {background-color: #d4ebff;}#sk-container-id-2 div.sk-parallel-item::after {content: \"\";width: 100%;border-bottom: 1px solid gray;flex-grow: 1;}#sk-container-id-2 div.sk-label:hover label.sk-toggleable__label {background-color: #d4ebff;}#sk-container-id-2 div.sk-serial::before {content: \"\";position: absolute;border-left: 1px solid gray;box-sizing: border-box;top: 0;bottom: 0;left: 50%;z-index: 0;}#sk-container-id-2 div.sk-serial {display: flex;flex-direction: column;align-items: center;background-color: white;padding-right: 0.2em;padding-left: 0.2em;position: relative;}#sk-container-id-2 div.sk-item {position: relative;z-index: 1;}#sk-container-id-2 div.sk-parallel {display: flex;align-items: stretch;justify-content: center;background-color: white;position: relative;}#sk-container-id-2 div.sk-item::before, #sk-container-id-2 div.sk-parallel-item::before {content: \"\";position: absolute;border-left: 1px solid gray;box-sizing: border-box;top: 0;bottom: 0;left: 50%;z-index: -1;}#sk-container-id-2 div.sk-parallel-item {display: flex;flex-direction: column;z-index: 1;position: relative;background-color: white;}#sk-container-id-2 div.sk-parallel-item:first-child::after {align-self: flex-end;width: 50%;}#sk-container-id-2 div.sk-parallel-item:last-child::after {align-self: flex-start;width: 50%;}#sk-container-id-2 div.sk-parallel-item:only-child::after {width: 0;}#sk-container-id-2 div.sk-dashed-wrapped {border: 1px dashed gray;margin: 0 0.4em 0.5em 0.4em;box-sizing: border-box;padding-bottom: 0.4em;background-color: white;}#sk-container-id-2 div.sk-label label {font-family: monospace;font-weight: bold;display: inline-block;line-height: 1.2em;}#sk-container-id-2 div.sk-label-container {text-align: center;}#sk-container-id-2 div.sk-container {/* jupyter's `normalize.less` sets `[hidden] { display: none; }` but bootstrap.min.css set `[hidden] { display: none !important; }` so we also need the `!important` here to be able to override the default hidden behavior on the sphinx rendered scikit-learn.org. See: https://github.com/scikit-learn/scikit-learn/issues/21755 */display: inline-block !important;position: relative;}#sk-container-id-2 div.sk-text-repr-fallback {display: none;}</style><div id=\"sk-container-id-2\" class=\"sk-top-container\"><div class=\"sk-text-repr-fallback\"><pre>DecisionTreeClassifier()</pre><b>In a Jupyter environment, please rerun this cell to show the HTML representation or trust the notebook. <br />On GitHub, the HTML representation is unable to render, please try loading this page with nbviewer.org.</b></div><div class=\"sk-container\" hidden><div class=\"sk-item\"><div class=\"sk-estimator sk-toggleable\"><input class=\"sk-toggleable__control sk-hidden--visually\" id=\"sk-estimator-id-2\" type=\"checkbox\" checked><label for=\"sk-estimator-id-2\" class=\"sk-toggleable__label sk-toggleable__label-arrow\">DecisionTreeClassifier</label><div class=\"sk-toggleable__content\"><pre>DecisionTreeClassifier()</pre></div></div></div></div></div>"
            ]
          },
          "metadata": {},
          "execution_count": 35
        }
      ],
      "source": [
        "from sklearn.tree import DecisionTreeClassifier\n",
        "classifier = DecisionTreeClassifier()\n",
        "classifier.fit(X_train,y_train)"
      ]
    },
    {
      "cell_type": "code",
      "execution_count": 36,
      "id": "afff8876",
      "metadata": {
        "colab": {
          "base_uri": "https://localhost:8080/",
          "height": 460
        },
        "id": "afff8876",
        "outputId": "6d3ace4e-6bc9-4a85-e14c-0997177d41e5"
      },
      "outputs": [
        {
          "output_type": "execute_result",
          "data": {
            "text/plain": [
              "[Text(0.5, 0.75, 'x[0] <= 0.0\\ngini = 0.5\\nsamples = 4\\nvalue = [2, 2]'),\n",
              " Text(0.25, 0.25, 'gini = 0.0\\nsamples = 2\\nvalue = [2, 0]'),\n",
              " Text(0.75, 0.25, 'gini = 0.0\\nsamples = 2\\nvalue = [0, 2]')]"
            ]
          },
          "metadata": {},
          "execution_count": 36
        },
        {
          "output_type": "display_data",
          "data": {
            "text/plain": [
              "<Figure size 640x480 with 1 Axes>"
            ],
            "image/png": "[encoded data removed]"
          },
          "metadata": {}
        }
      ],
      "source": [
        "from sklearn import tree\n",
        "tree.plot_tree(classifier)"
      ]
    },
    {
      "cell_type": "code",
      "execution_count": 37,
      "id": "f9fb10d8",
      "metadata": {
        "colab": {
          "base_uri": "https://localhost:8080/"
        },
        "id": "f9fb10d8",
        "outputId": "a9275c47-316b-48af-d407-9ab3c067c5ac"
      },
      "outputs": [
        {
          "output_type": "execute_result",
          "data": {
            "text/plain": [
              "array([0, 1])"
            ]
          },
          "metadata": {},
          "execution_count": 37
        }
      ],
      "source": [
        "y_pred = classifier.predict(X_test)\n",
        "y_pred"
      ]
    },
    {
      "cell_type": "code",
      "execution_count": 38,
      "id": "2e32aa93",
      "metadata": {
        "colab": {
          "base_uri": "https://localhost:8080/"
        },
        "id": "2e32aa93",
        "outputId": "d4833ee3-3312-41de-9c22-26be46eb0d37"
      },
      "outputs": [
        {
          "output_type": "stream",
          "name": "stdout",
          "text": [
            "[[1 0]\n",
            " [0 1]]\n",
            "              precision    recall  f1-score   support\n",
            "\n",
            "           0       1.00      1.00      1.00         1\n",
            "           1       1.00      1.00      1.00         1\n",
            "\n",
            "    accuracy                           1.00         2\n",
            "   macro avg       1.00      1.00      1.00         2\n",
            "weighted avg       1.00      1.00      1.00         2\n",
            "\n"
          ]
        }
      ],
      "source": [
        "from sklearn.metrics import classification_report, confusion_matrix\n",
        "print(confusion_matrix(y_test,y_pred))\n",
        "print(classification_report(y_test,y_pred))"
      ]
    },
    {
      "cell_type": "markdown",
      "id": "e6ef95d2",
      "metadata": {
        "id": "e6ef95d2"
      },
      "source": [
        "## 1.4.1 Пример\n"
      ]
    },
    {
      "cell_type": "code",
      "execution_count": 39,
      "id": "3d9c98ef",
      "metadata": {
        "colab": {
          "base_uri": "https://localhost:8080/",
          "height": 318
        },
        "id": "3d9c98ef",
        "outputId": "edfedce1-239a-418a-b0e5-e0477789e255"
      },
      "outputs": [
        {
          "output_type": "stream",
          "name": "stdout",
          "text": [
            "(30, 2)\n"
          ]
        },
        {
          "output_type": "execute_result",
          "data": {
            "text/plain": [
              "       YearsExperience         Salary\n",
              "count        30.000000      30.000000\n",
              "mean          5.313333   76003.000000\n",
              "std           2.837888   27414.429785\n",
              "min           1.100000   37731.000000\n",
              "25%           3.200000   56720.750000\n",
              "50%           4.700000   65237.000000\n",
              "75%           7.700000  100544.750000\n",
              "max          10.500000  122391.000000"
            ],
            "text/html": [
              "\n",
              "  <div id=\"df-2c9d05d9-9104-41bd-b36b-d40b20697f72\">\n",
              "    <div class=\"colab-df-container\">\n",
              "      <div>\n",
              "<style scoped>\n",
              "    .dataframe tbody tr th:only-of-type {\n",
              "        vertical-align: middle;\n",
              "    }\n",
              "\n",
              "    .dataframe tbody tr th {\n",
              "        vertical-align: top;\n",
              "    }\n",
              "\n",
              "    .dataframe thead th {\n",
              "        text-align: right;\n",
              "    }\n",
              "</style>\n",
              "<table border=\"1\" class=\"dataframe\">\n",
              "  <thead>\n",
              "    <tr style=\"text-align: right;\">\n",
              "      <th></th>\n",
              "      <th>YearsExperience</th>\n",
              "      <th>Salary</th>\n",
              "    </tr>\n",
              "  </thead>\n",
              "  <tbody>\n",
              "    <tr>\n",
              "      <th>count</th>\n",
              "      <td>30.000000</td>\n",
              "      <td>30.000000</td>\n",
              "    </tr>\n",
              "    <tr>\n",
              "      <th>mean</th>\n",
              "      <td>5.313333</td>\n",
              "      <td>76003.000000</td>\n",
              "    </tr>\n",
              "    <tr>\n",
              "      <th>std</th>\n",
              "      <td>2.837888</td>\n",
              "      <td>27414.429785</td>\n",
              "    </tr>\n",
              "    <tr>\n",
              "      <th>min</th>\n",
              "      <td>1.100000</td>\n",
              "      <td>37731.000000</td>\n",
              "    </tr>\n",
              "    <tr>\n",
              "      <th>25%</th>\n",
              "      <td>3.200000</td>\n",
              "      <td>56720.750000</td>\n",
              "    </tr>\n",
              "    <tr>\n",
              "      <th>50%</th>\n",
              "      <td>4.700000</td>\n",
              "      <td>65237.000000</td>\n",
              "    </tr>\n",
              "    <tr>\n",
              "      <th>75%</th>\n",
              "      <td>7.700000</td>\n",
              "      <td>100544.750000</td>\n",
              "    </tr>\n",
              "    <tr>\n",
              "      <th>max</th>\n",
              "      <td>10.500000</td>\n",
              "      <td>122391.000000</td>\n",
              "    </tr>\n",
              "  </tbody>\n",
              "</table>\n",
              "</div>\n",
              "      <button class=\"colab-df-convert\" onclick=\"convertToInteractive('df-2c9d05d9-9104-41bd-b36b-d40b20697f72')\"\n",
              "              title=\"Convert this dataframe to an interactive table.\"\n",
              "              style=\"display:none;\">\n",
              "        \n",
              "  <svg xmlns=\"http://www.w3.org/2000/svg\" height=\"24px\"viewBox=\"0 0 24 24\"\n",
              "       width=\"24px\">\n",
              "    <path d=\"M0 0h24v24H0V0z\" fill=\"none\"/>\n",
              "    <path d=\"M18.56 5.44l.94 2.06.94-2.06 2.06-.94-2.06-.94-.94-2.06-.94 2.06-2.06.94zm-11 1L8.5 8.5l.94-2.06 2.06-.94-2.06-.94L8.5 2.5l-.94 2.06-2.06.94zm10 10l.94 2.06.94-2.06 2.06-.94-2.06-.94-.94-2.06-.94 2.06-2.06.94z\"/><path d=\"M17.41 7.96l-1.37-1.37c-.4-.4-.92-.59-1.43-.59-.52 0-1.04.2-1.43.59L10.3 9.45l-7.72 7.72c-.78.78-.78 2.05 0 2.83L4 21.41c.39.39.9.59 1.41.59.51 0 1.02-.2 1.41-.59l7.78-7.78 2.81-2.81c.8-.78.8-2.07 0-2.86zM5.41 20L4 18.59l7.72-7.72 1.47 1.35L5.41 20z\"/>\n",
              "  </svg>\n",
              "      </button>\n",
              "      \n",
              "  <style>\n",
              "    .colab-df-container {\n",
              "      display:flex;\n",
              "      flex-wrap:wrap;\n",
              "      gap: 12px;\n",
              "    }\n",
              "\n",
              "    .colab-df-convert {\n",
              "      background-color: #E8F0FE;\n",
              "      border: none;\n",
              "      border-radius: 50%;\n",
              "      cursor: pointer;\n",
              "      display: none;\n",
              "      fill: #1967D2;\n",
              "      height: 32px;\n",
              "      padding: 0 0 0 0;\n",
              "      width: 32px;\n",
              "    }\n",
              "\n",
              "    .colab-df-convert:hover {\n",
              "      background-color: #E2EBFA;\n",
              "      box-shadow: 0px 1px 2px rgba(60, 64, 67, 0.3), 0px 1px 3px 1px rgba(60, 64, 67, 0.15);\n",
              "      fill: #174EA6;\n",
              "    }\n",
              "\n",
              "    [theme=dark] .colab-df-convert {\n",
              "      background-color: #3B4455;\n",
              "      fill: #D2E3FC;\n",
              "    }\n",
              "\n",
              "    [theme=dark] .colab-df-convert:hover {\n",
              "      background-color: #434B5C;\n",
              "      box-shadow: 0px 1px 3px 1px rgba(0, 0, 0, 0.15);\n",
              "      filter: drop-shadow(0px 1px 2px rgba(0, 0, 0, 0.3));\n",
              "      fill: #FFFFFF;\n",
              "    }\n",
              "  </style>\n",
              "\n",
              "      <script>\n",
              "        const buttonEl =\n",
              "          document.querySelector('#df-2c9d05d9-9104-41bd-b36b-d40b20697f72 button.colab-df-convert');\n",
              "        buttonEl.style.display =\n",
              "          google.colab.kernel.accessAllowed ? 'block' : 'none';\n",
              "\n",
              "        async function convertToInteractive(key) {\n",
              "          const element = document.querySelector('#df-2c9d05d9-9104-41bd-b36b-d40b20697f72');\n",
              "          const dataTable =\n",
              "            await google.colab.kernel.invokeFunction('convertToInteractive',\n",
              "                                                     [key], {});\n",
              "          if (!dataTable) return;\n",
              "\n",
              "          const docLinkHtml = 'Like what you see? Visit the ' +\n",
              "            '<a target=\"_blank\" href=https://colab.research.google.com/notebooks/data_table.ipynb>data table notebook</a>'\n",
              "            + ' to learn more about interactive tables.';\n",
              "          element.innerHTML = '';\n",
              "          dataTable['output_type'] = 'display_data';\n",
              "          await google.colab.output.renderOutput(dataTable, element);\n",
              "          const docLink = document.createElement('div');\n",
              "          docLink.innerHTML = docLinkHtml;\n",
              "          element.appendChild(docLink);\n",
              "        }\n",
              "      </script>\n",
              "    </div>\n",
              "  </div>\n",
              "  "
            ]
          },
          "metadata": {},
          "execution_count": 39
        }
      ],
      "source": [
        "import pandas as pd \n",
        "import numpy as np\n",
        "import matplotlib.pyplot as plt\n",
        "\n",
        "url = r'https://raw.githubusercontent.com/AnnaShestova/salary-years-simple-linear-regression/master/Salary_Data.csv'\n",
        "dataset = pd.read_csv(url)\n",
        "dataset.head()\n",
        "\n",
        "# Исследуем набор данных\n",
        "print(dataset.shape)\n",
        "dataset.describe()"
      ]
    },
    {
      "cell_type": "code",
      "execution_count": 40,
      "id": "e2f2e49d",
      "metadata": {
        "colab": {
          "base_uri": "https://localhost:8080/",
          "height": 449
        },
        "id": "e2f2e49d",
        "outputId": "82145ea9-2e3b-47a7-8c3e-c89e915fda86"
      },
      "outputs": [
        {
          "output_type": "display_data",
          "data": {
            "text/plain": [
              "<Figure size 640x480 with 1 Axes>"
            ],
            "image/png": "[encoded data removed]"
          },
          "metadata": {}
        }
      ],
      "source": [
        "# Нурисуем точечную диаграмму\n",
        "plt.scatter(dataset['YearsExperience'], dataset['Salary'],color='b',label='Заработная плата')\n",
        "plt.xlabel(\"Опыт(лет)\")\n",
        "plt.ylabel(\"Зарабтная плата\")\n",
        "plt.show()"
      ]
    },
    {
      "cell_type": "code",
      "execution_count": 41,
      "id": "1da79608",
      "metadata": {
        "colab": {
          "base_uri": "https://localhost:8080/",
          "height": 682
        },
        "id": "1da79608",
        "outputId": "eb733a08-a57a-4ea6-d186-86c067f3df09"
      },
      "outputs": [
        {
          "output_type": "stream",
          "name": "stdout",
          "text": [
            "[[ 1.1]\n",
            " [ 1.3]\n",
            " [ 1.5]\n",
            " [ 2. ]\n",
            " [ 2.2]\n",
            " [ 2.9]\n",
            " [ 3. ]\n",
            " [ 3.2]\n",
            " [ 3.2]\n",
            " [ 3.7]\n",
            " [ 3.9]\n",
            " [ 4. ]\n",
            " [ 4. ]\n",
            " [ 4.1]\n",
            " [ 4.5]\n",
            " [ 4.9]\n",
            " [ 5.1]\n",
            " [ 5.3]\n",
            " [ 5.9]\n",
            " [ 6. ]\n",
            " [ 6.8]\n",
            " [ 7.1]\n",
            " [ 7.9]\n",
            " [ 8.2]\n",
            " [ 8.7]\n",
            " [ 9. ]\n",
            " [ 9.5]\n",
            " [ 9.6]\n",
            " [10.3]\n",
            " [10.5]]\n",
            "[ 39343.  46205.  37731.  43525.  39891.  56642.  60150.  54445.  64445.\n",
            "  57189.  63218.  55794.  56957.  57081.  61111.  67938.  66029.  83088.\n",
            "  81363.  93940.  91738.  98273. 101302. 113812. 109431. 105582. 116969.\n",
            " 112635. 122391. 121872.]\n"
          ]
        },
        {
          "output_type": "execute_result",
          "data": {
            "text/plain": [
              "DecisionTreeRegressor()"
            ],
            "text/html": [
              "<style>#sk-container-id-3 {color: black;background-color: white;}#sk-container-id-3 pre{padding: 0;}#sk-container-id-3 div.sk-toggleable {background-color: white;}#sk-container-id-3 label.sk-toggleable__label {cursor: pointer;display: block;width: 100%;margin-bottom: 0;padding: 0.3em;box-sizing: border-box;text-align: center;}#sk-container-id-3 label.sk-toggleable__label-arrow:before {content: \"▸\";float: left;margin-right: 0.25em;color: #696969;}#sk-container-id-3 label.sk-toggleable__label-arrow:hover:before {color: black;}#sk-container-id-3 div.sk-estimator:hover label.sk-toggleable__label-arrow:before {color: black;}#sk-container-id-3 div.sk-toggleable__content {max-height: 0;max-width: 0;overflow: hidden;text-align: left;background-color: #f0f8ff;}#sk-container-id-3 div.sk-toggleable__content pre {margin: 0.2em;color: black;border-radius: 0.25em;background-color: #f0f8ff;}#sk-container-id-3 input.sk-toggleable__control:checked~div.sk-toggleable__content {max-height: 200px;max-width: 100%;overflow: auto;}#sk-container-id-3 input.sk-toggleable__control:checked~label.sk-toggleable__label-arrow:before {content: \"▾\";}#sk-container-id-3 div.sk-estimator input.sk-toggleable__control:checked~label.sk-toggleable__label {background-color: #d4ebff;}#sk-container-id-3 div.sk-label input.sk-toggleable__control:checked~label.sk-toggleable__label {background-color: #d4ebff;}#sk-container-id-3 input.sk-hidden--visually {border: 0;clip: rect(1px 1px 1px 1px);clip: rect(1px, 1px, 1px, 1px);height: 1px;margin: -1px;overflow: hidden;padding: 0;position: absolute;width: 1px;}#sk-container-id-3 div.sk-estimator {font-family: monospace;background-color: #f0f8ff;border: 1px dotted black;border-radius: 0.25em;box-sizing: border-box;margin-bottom: 0.5em;}#sk-container-id-3 div.sk-estimator:hover {background-color: #d4ebff;}#sk-container-id-3 div.sk-parallel-item::after {content: \"\";width: 100%;border-bottom: 1px solid gray;flex-grow: 1;}#sk-container-id-3 div.sk-label:hover label.sk-toggleable__label {background-color: #d4ebff;}#sk-container-id-3 div.sk-serial::before {content: \"\";position: absolute;border-left: 1px solid gray;box-sizing: border-box;top: 0;bottom: 0;left: 50%;z-index: 0;}#sk-container-id-3 div.sk-serial {display: flex;flex-direction: column;align-items: center;background-color: white;padding-right: 0.2em;padding-left: 0.2em;position: relative;}#sk-container-id-3 div.sk-item {position: relative;z-index: 1;}#sk-container-id-3 div.sk-parallel {display: flex;align-items: stretch;justify-content: center;background-color: white;position: relative;}#sk-container-id-3 div.sk-item::before, #sk-container-id-3 div.sk-parallel-item::before {content: \"\";position: absolute;border-left: 1px solid gray;box-sizing: border-box;top: 0;bottom: 0;left: 50%;z-index: -1;}#sk-container-id-3 div.sk-parallel-item {display: flex;flex-direction: column;z-index: 1;position: relative;background-color: white;}#sk-container-id-3 div.sk-parallel-item:first-child::after {align-self: flex-end;width: 50%;}#sk-container-id-3 div.sk-parallel-item:last-child::after {align-self: flex-start;width: 50%;}#sk-container-id-3 div.sk-parallel-item:only-child::after {width: 0;}#sk-container-id-3 div.sk-dashed-wrapped {border: 1px dashed gray;margin: 0 0.4em 0.5em 0.4em;box-sizing: border-box;padding-bottom: 0.4em;background-color: white;}#sk-container-id-3 div.sk-label label {font-family: monospace;font-weight: bold;display: inline-block;line-height: 1.2em;}#sk-container-id-3 div.sk-label-container {text-align: center;}#sk-container-id-3 div.sk-container {/* jupyter's `normalize.less` sets `[hidden] { display: none; }` but bootstrap.min.css set `[hidden] { display: none !important; }` so we also need the `!important` here to be able to override the default hidden behavior on the sphinx rendered scikit-learn.org. See: https://github.com/scikit-learn/scikit-learn/issues/21755 */display: inline-block !important;position: relative;}#sk-container-id-3 div.sk-text-repr-fallback {display: none;}</style><div id=\"sk-container-id-3\" class=\"sk-top-container\"><div class=\"sk-text-repr-fallback\"><pre>DecisionTreeRegressor()</pre><b>In a Jupyter environment, please rerun this cell to show the HTML representation or trust the notebook. <br />On GitHub, the HTML representation is unable to render, please try loading this page with nbviewer.org.</b></div><div class=\"sk-container\" hidden><div class=\"sk-item\"><div class=\"sk-estimator sk-toggleable\"><input class=\"sk-toggleable__control sk-hidden--visually\" id=\"sk-estimator-id-3\" type=\"checkbox\" checked><label for=\"sk-estimator-id-3\" class=\"sk-toggleable__label sk-toggleable__label-arrow\">DecisionTreeRegressor</label><div class=\"sk-toggleable__content\"><pre>DecisionTreeRegressor()</pre></div></div></div></div></div>"
            ]
          },
          "metadata": {},
          "execution_count": 41
        }
      ],
      "source": [
        "from sklearn.tree import DecisionTreeRegressor\n",
        "X = dataset.iloc[:,:-1].values\n",
        "y = dataset.iloc[:,-1].values\n",
        "print(X)\n",
        "print(y)\n",
        "\n",
        "# Теперь, когда у нас есть атрибуты и метки, необходимо разделить их на а обучающий и тестовый набор.\n",
        "# Приведенный фрагмент разделяют 80% данных на обучающий набор, а 20% данных - на набор тестов\n",
        "X_train,X_test, y_train, y_test = train_test_split(X,y,test_size=0.2, random_state=0)\n",
        "\n",
        "# далее можно обучить алгоритм линейной регрессии\n",
        "# необходимо импортировать класс LinearRegression, создать его экземпляр и вызвать fit()\n",
        "regressor = DecisionTreeRegressor()\n",
        "regressor.fit(X_train,y_train)"
      ]
    },
    {
      "cell_type": "code",
      "execution_count": 42,
      "id": "53356121",
      "metadata": {
        "colab": {
          "base_uri": "https://localhost:8080/",
          "height": 1000
        },
        "id": "53356121",
        "outputId": "acb52805-5602-4312-9d42-f9572875c69d"
      },
      "outputs": [
        {
          "output_type": "execute_result",
          "data": {
            "text/plain": [
              "[Text(0.4956896551724138, 0.9375, 'x[0] <= 5.2\\nsquared_error = 614737637.832\\nsamples = 24\\nvalue = 73886.208'),\n",
              " Text(0.20689655172413793, 0.8125, 'x[0] <= 2.55\\nsquared_error = 81200345.857\\nsamples = 14\\nvalue = 54976.0'),\n",
              " Text(0.06896551724137931, 0.6875, 'x[0] <= 1.2\\nsquared_error = 7820714.0\\nsamples = 4\\nvalue = 42241.0'),\n",
              " Text(0.034482758620689655, 0.5625, 'squared_error = 0.0\\nsamples = 1\\nvalue = 39343.0'),\n",
              " Text(0.10344827586206896, 0.5625, 'x[0] <= 2.1\\nsquared_error = 6694994.667\\nsamples = 3\\nvalue = 43207.0'),\n",
              " Text(0.06896551724137931, 0.4375, 'x[0] <= 1.65\\nsquared_error = 1795600.0\\nsamples = 2\\nvalue = 44865.0'),\n",
              " Text(0.034482758620689655, 0.3125, 'squared_error = 0.0\\nsamples = 1\\nvalue = 46205.0'),\n",
              " Text(0.10344827586206896, 0.3125, 'squared_error = 0.0\\nsamples = 1\\nvalue = 43525.0'),\n",
              " Text(0.13793103448275862, 0.4375, 'squared_error = 0.0\\nsamples = 1\\nvalue = 39891.0'),\n",
              " Text(0.3448275862068966, 0.6875, 'x[0] <= 4.7\\nsquared_error = 19731272.6\\nsamples = 10\\nvalue = 60070.0'),\n",
              " Text(0.27586206896551724, 0.5625, 'x[0] <= 4.25\\nsquared_error = 9499922.484\\nsamples = 8\\nvalue = 58341.625'),\n",
              " Text(0.2413793103448276, 0.4375, 'x[0] <= 3.45\\nsquared_error = 9604901.143\\nsamples = 7\\nvalue = 57946.0'),\n",
              " Text(0.1724137931034483, 0.3125, 'x[0] <= 2.95\\nsquared_error = 14313358.25\\nsamples = 4\\nvalue = 58920.5'),\n",
              " Text(0.13793103448275862, 0.1875, 'squared_error = 0.0\\nsamples = 1\\nvalue = 56642.0'),\n",
              " Text(0.20689655172413793, 0.1875, 'x[0] <= 3.1\\nsquared_error = 16777116.667\\nsamples = 3\\nvalue = 59680.0'),\n",
              " Text(0.1724137931034483, 0.0625, 'squared_error = 0.0\\nsamples = 1\\nvalue = 60150.0'),\n",
              " Text(0.2413793103448276, 0.0625, 'squared_error = 25000000.0\\nsamples = 2\\nvalue = 59445.0'),\n",
              " Text(0.3103448275862069, 0.3125, 'x[0] <= 3.85\\nsquared_error = 372490.889\\nsamples = 3\\nvalue = 56646.667'),\n",
              " Text(0.27586206896551724, 0.1875, 'squared_error = 0.0\\nsamples = 1\\nvalue = 57189.0'),\n",
              " Text(0.3448275862068966, 0.1875, 'squared_error = 338142.25\\nsamples = 2\\nvalue = 56375.5'),\n",
              " Text(0.3103448275862069, 0.4375, 'squared_error = 0.0\\nsamples = 1\\nvalue = 61111.0'),\n",
              " Text(0.41379310344827586, 0.5625, 'x[0] <= 5.0\\nsquared_error = 911070.25\\nsamples = 2\\nvalue = 66983.5'),\n",
              " Text(0.3793103448275862, 0.4375, 'squared_error = 0.0\\nsamples = 1\\nvalue = 67938.0'),\n",
              " Text(0.4482758620689655, 0.4375, 'squared_error = 0.0\\nsamples = 1\\nvalue = 66029.0'),\n",
              " Text(0.7844827586206896, 0.8125, 'x[0] <= 8.05\\nsquared_error = 160167356.45\\nsamples = 10\\nvalue = 100360.5'),\n",
              " Text(0.6379310344827587, 0.6875, 'x[0] <= 5.95\\nsquared_error = 53566814.556\\nsamples = 6\\nvalue = 91617.333'),\n",
              " Text(0.5517241379310345, 0.5625, 'x[0] <= 5.6\\nsquared_error = 743906.25\\nsamples = 2\\nvalue = 82225.5'),\n",
              " Text(0.5172413793103449, 0.4375, 'squared_error = 0.0\\nsamples = 1\\nvalue = 83088.0'),\n",
              " Text(0.5862068965517241, 0.4375, 'squared_error = 0.0\\nsamples = 1\\nvalue = 81363.0'),\n",
              " Text(0.7241379310344828, 0.5625, 'x[0] <= 6.95\\nsquared_error = 13823368.688\\nsamples = 4\\nvalue = 96313.25'),\n",
              " Text(0.6551724137931034, 0.4375, 'x[0] <= 6.4\\nsquared_error = 1212201.0\\nsamples = 2\\nvalue = 92839.0'),\n",
              " Text(0.6206896551724138, 0.3125, 'squared_error = 0.0\\nsamples = 1\\nvalue = 93940.0'),\n",
              " Text(0.6896551724137931, 0.3125, 'squared_error = 0.0\\nsamples = 1\\nvalue = 91738.0'),\n",
              " Text(0.7931034482758621, 0.4375, 'x[0] <= 7.5\\nsquared_error = 2293710.25\\nsamples = 2\\nvalue = 99787.5'),\n",
              " Text(0.7586206896551724, 0.3125, 'squared_error = 0.0\\nsamples = 1\\nvalue = 98273.0'),\n",
              " Text(0.8275862068965517, 0.3125, 'squared_error = 0.0\\nsamples = 1\\nvalue = 101302.0'),\n",
              " Text(0.9310344827586207, 0.6875, 'x[0] <= 10.05\\nsquared_error = 33407056.688\\nsamples = 4\\nvalue = 113475.25'),\n",
              " Text(0.896551724137931, 0.5625, 'x[0] <= 8.6\\nsquared_error = 13207004.222\\nsamples = 3\\nvalue = 110676.333'),\n",
              " Text(0.8620689655172413, 0.4375, 'squared_error = 0.0\\nsamples = 1\\nvalue = 113812.0'),\n",
              " Text(0.9310344827586207, 0.4375, 'x[0] <= 9.3\\nsquared_error = 12436202.25\\nsamples = 2\\nvalue = 109108.5'),\n",
              " Text(0.896551724137931, 0.3125, 'squared_error = 0.0\\nsamples = 1\\nvalue = 105582.0'),\n",
              " Text(0.9655172413793104, 0.3125, 'squared_error = 0.0\\nsamples = 1\\nvalue = 112635.0'),\n",
              " Text(0.9655172413793104, 0.5625, 'squared_error = 0.0\\nsamples = 1\\nvalue = 121872.0')]"
            ]
          },
          "metadata": {},
          "execution_count": 42
        },
        {
          "output_type": "display_data",
          "data": {
            "text/plain": [
              "<Figure size 640x480 with 1 Axes>"
            ],
            "image/png": "[encoded data removed]"
          },
          "metadata": {}
        }
      ],
      "source": [
        "from sklearn import tree\n",
        "tree.plot_tree(regressor)\n"
      ]
    },
    {
      "cell_type": "code",
      "execution_count": 43,
      "id": "5a2ad755",
      "metadata": {
        "colab": {
          "base_uri": "https://localhost:8080/"
        },
        "id": "5a2ad755",
        "outputId": "69ed26b7-5be2-4188-e02d-690f2cc80930"
      },
      "outputs": [
        {
          "output_type": "execute_result",
          "data": {
            "text/plain": [
              "array([ 46205. , 121872. ,  56375.5,  56375.5, 112635. , 105582. ])"
            ]
          },
          "metadata": {},
          "execution_count": 43
        }
      ],
      "source": [
        "# Построим прогноз:\n",
        "y_pred = regressor.predict(X_test)\n",
        "y_pred\n"
      ]
    },
    {
      "cell_type": "code",
      "execution_count": 44,
      "id": "e2120de3",
      "metadata": {
        "colab": {
          "base_uri": "https://localhost:8080/",
          "height": 238
        },
        "id": "e2120de3",
        "outputId": "847d7645-9731-4c0c-b677-9c420970b501"
      },
      "outputs": [
        {
          "output_type": "execute_result",
          "data": {
            "text/plain": [
              "     Actual  Predicted\n",
              "0   37731.0    46205.0\n",
              "1  122391.0   121872.0\n",
              "2   57081.0    56375.5\n",
              "3   63218.0    56375.5\n",
              "4  116969.0   112635.0\n",
              "5  109431.0   105582.0"
            ],
            "text/html": [
              "\n",
              "  <div id=\"df-8c0cf3a9-fc2f-4cb6-a511-3647f1f9ec85\">\n",
              "    <div class=\"colab-df-container\">\n",
              "      <div>\n",
              "<style scoped>\n",
              "    .dataframe tbody tr th:only-of-type {\n",
              "        vertical-align: middle;\n",
              "    }\n",
              "\n",
              "    .dataframe tbody tr th {\n",
              "        vertical-align: top;\n",
              "    }\n",
              "\n",
              "    .dataframe thead th {\n",
              "        text-align: right;\n",
              "    }\n",
              "</style>\n",
              "<table border=\"1\" class=\"dataframe\">\n",
              "  <thead>\n",
              "    <tr style=\"text-align: right;\">\n",
              "      <th></th>\n",
              "      <th>Actual</th>\n",
              "      <th>Predicted</th>\n",
              "    </tr>\n",
              "  </thead>\n",
              "  <tbody>\n",
              "    <tr>\n",
              "      <th>0</th>\n",
              "      <td>37731.0</td>\n",
              "      <td>46205.0</td>\n",
              "    </tr>\n",
              "    <tr>\n",
              "      <th>1</th>\n",
              "      <td>122391.0</td>\n",
              "      <td>121872.0</td>\n",
              "    </tr>\n",
              "    <tr>\n",
              "      <th>2</th>\n",
              "      <td>57081.0</td>\n",
              "      <td>56375.5</td>\n",
              "    </tr>\n",
              "    <tr>\n",
              "      <th>3</th>\n",
              "      <td>63218.0</td>\n",
              "      <td>56375.5</td>\n",
              "    </tr>\n",
              "    <tr>\n",
              "      <th>4</th>\n",
              "      <td>116969.0</td>\n",
              "      <td>112635.0</td>\n",
              "    </tr>\n",
              "    <tr>\n",
              "      <th>5</th>\n",
              "      <td>109431.0</td>\n",
              "      <td>105582.0</td>\n",
              "    </tr>\n",
              "  </tbody>\n",
              "</table>\n",
              "</div>\n",
              "      <button class=\"colab-df-convert\" onclick=\"convertToInteractive('df-8c0cf3a9-fc2f-4cb6-a511-3647f1f9ec85')\"\n",
              "              title=\"Convert this dataframe to an interactive table.\"\n",
              "              style=\"display:none;\">\n",
              "        \n",
              "  <svg xmlns=\"http://www.w3.org/2000/svg\" height=\"24px\"viewBox=\"0 0 24 24\"\n",
              "       width=\"24px\">\n",
              "    <path d=\"M0 0h24v24H0V0z\" fill=\"none\"/>\n",
              "    <path d=\"M18.56 5.44l.94 2.06.94-2.06 2.06-.94-2.06-.94-.94-2.06-.94 2.06-2.06.94zm-11 1L8.5 8.5l.94-2.06 2.06-.94-2.06-.94L8.5 2.5l-.94 2.06-2.06.94zm10 10l.94 2.06.94-2.06 2.06-.94-2.06-.94-.94-2.06-.94 2.06-2.06.94z\"/><path d=\"M17.41 7.96l-1.37-1.37c-.4-.4-.92-.59-1.43-.59-.52 0-1.04.2-1.43.59L10.3 9.45l-7.72 7.72c-.78.78-.78 2.05 0 2.83L4 21.41c.39.39.9.59 1.41.59.51 0 1.02-.2 1.41-.59l7.78-7.78 2.81-2.81c.8-.78.8-2.07 0-2.86zM5.41 20L4 18.59l7.72-7.72 1.47 1.35L5.41 20z\"/>\n",
              "  </svg>\n",
              "      </button>\n",
              "      \n",
              "  <style>\n",
              "    .colab-df-container {\n",
              "      display:flex;\n",
              "      flex-wrap:wrap;\n",
              "      gap: 12px;\n",
              "    }\n",
              "\n",
              "    .colab-df-convert {\n",
              "      background-color: #E8F0FE;\n",
              "      border: none;\n",
              "      border-radius: 50%;\n",
              "      cursor: pointer;\n",
              "      display: none;\n",
              "      fill: #1967D2;\n",
              "      height: 32px;\n",
              "      padding: 0 0 0 0;\n",
              "      width: 32px;\n",
              "    }\n",
              "\n",
              "    .colab-df-convert:hover {\n",
              "      background-color: #E2EBFA;\n",
              "      box-shadow: 0px 1px 2px rgba(60, 64, 67, 0.3), 0px 1px 3px 1px rgba(60, 64, 67, 0.15);\n",
              "      fill: #174EA6;\n",
              "    }\n",
              "\n",
              "    [theme=dark] .colab-df-convert {\n",
              "      background-color: #3B4455;\n",
              "      fill: #D2E3FC;\n",
              "    }\n",
              "\n",
              "    [theme=dark] .colab-df-convert:hover {\n",
              "      background-color: #434B5C;\n",
              "      box-shadow: 0px 1px 3px 1px rgba(0, 0, 0, 0.15);\n",
              "      filter: drop-shadow(0px 1px 2px rgba(0, 0, 0, 0.3));\n",
              "      fill: #FFFFFF;\n",
              "    }\n",
              "  </style>\n",
              "\n",
              "      <script>\n",
              "        const buttonEl =\n",
              "          document.querySelector('#df-8c0cf3a9-fc2f-4cb6-a511-3647f1f9ec85 button.colab-df-convert');\n",
              "        buttonEl.style.display =\n",
              "          google.colab.kernel.accessAllowed ? 'block' : 'none';\n",
              "\n",
              "        async function convertToInteractive(key) {\n",
              "          const element = document.querySelector('#df-8c0cf3a9-fc2f-4cb6-a511-3647f1f9ec85');\n",
              "          const dataTable =\n",
              "            await google.colab.kernel.invokeFunction('convertToInteractive',\n",
              "                                                     [key], {});\n",
              "          if (!dataTable) return;\n",
              "\n",
              "          const docLinkHtml = 'Like what you see? Visit the ' +\n",
              "            '<a target=\"_blank\" href=https://colab.research.google.com/notebooks/data_table.ipynb>data table notebook</a>'\n",
              "            + ' to learn more about interactive tables.';\n",
              "          element.innerHTML = '';\n",
              "          dataTable['output_type'] = 'display_data';\n",
              "          await google.colab.output.renderOutput(dataTable, element);\n",
              "          const docLink = document.createElement('div');\n",
              "          docLink.innerHTML = docLinkHtml;\n",
              "          element.appendChild(docLink);\n",
              "        }\n",
              "      </script>\n",
              "    </div>\n",
              "  </div>\n",
              "  "
            ]
          },
          "metadata": {},
          "execution_count": 44
        }
      ],
      "source": [
        "# Теперь сравним некоторые из наших прогнозируемых значений с фактическими значениями:\n",
        "\n",
        "df = pd.DataFrame({'Actual':y_test,'Predicted':y_pred})\n",
        "df"
      ]
    },
    {
      "cell_type": "code",
      "execution_count": 45,
      "id": "656804ae",
      "metadata": {
        "colab": {
          "base_uri": "https://localhost:8080/"
        },
        "id": "656804ae",
        "outputId": "c64b0ce8-81e9-4456-dfe7-806829e6f0f6"
      },
      "outputs": [
        {
          "output_type": "stream",
          "name": "stdout",
          "text": [
            "Mean Squared Error:  25498988.416666668\n",
            "Mean Absolute Error: 4120.666666666667\n"
          ]
        }
      ],
      "source": [
        "# Расчитаем среднюю абсолютную и среднеквадратичную ошибку регрессии:\n",
        "from sklearn import metrics\n",
        "print('Mean Squared Error: ', metrics.mean_squared_error(y_test,y_pred))\n",
        "print('Mean Absolute Error:', metrics.mean_absolute_error(y_test,y_pred))"
      ]
    },
    {
      "cell_type": "code",
      "execution_count": 46,
      "id": "047e1eb3",
      "metadata": {
        "colab": {
          "base_uri": "https://localhost:8080/"
        },
        "id": "047e1eb3",
        "outputId": "4001fb9c-df86-4a99-9f49-992e0634b9f1"
      },
      "outputs": [
        {
          "output_type": "execute_result",
          "data": {
            "text/plain": [
              "5.421715809463662"
            ]
          },
          "metadata": {},
          "execution_count": 46
        }
      ],
      "source": [
        "metrics.mean_absolute_error(y_test,y_pred)/np.average(y)*100"
      ]
    },
    {
      "cell_type": "markdown",
      "id": "9a2c95f4",
      "metadata": {
        "id": "9a2c95f4"
      },
      "source": [
        "## Задание\n"
      ]
    },
    {
      "cell_type": "code",
      "execution_count": 48,
      "id": "1c07f023",
      "metadata": {
        "colab": {
          "base_uri": "https://localhost:8080/",
          "height": 318
        },
        "id": "1c07f023",
        "outputId": "08fcffcc-7e18-453f-bd82-ff5e5e7ed044"
      },
      "outputs": [
        {
          "output_type": "stream",
          "name": "stdout",
          "text": [
            "(48, 6)\n"
          ]
        },
        {
          "output_type": "execute_result",
          "data": {
            "text/plain": [
              "       Num_contry  Petrol_tax  Average_income  Paved_Highways  \\\n",
              "count       48.00   48.000000       48.000000       48.000000   \n",
              "mean        24.50    7.668333     4241.833333     5565.416667   \n",
              "std         14.00    0.950770      573.623768     3491.507166   \n",
              "min          1.00    5.000000     3063.000000      431.000000   \n",
              "25%         12.75    7.000000     3739.000000     3110.250000   \n",
              "50%         24.50    7.500000     4298.000000     4735.500000   \n",
              "75%         36.25    8.125000     4578.750000     7156.000000   \n",
              "max         48.00   10.000000     5342.000000    17782.000000   \n",
              "\n",
              "       Population_Driver_licence(%)  Petrol_Consumption  \n",
              "count                     48.000000           48.000000  \n",
              "mean                       0.570333          576.770833  \n",
              "std                        0.055470          111.885816  \n",
              "min                        0.451000          344.000000  \n",
              "25%                        0.529750          509.500000  \n",
              "50%                        0.564500          568.500000  \n",
              "75%                        0.595250          632.750000  \n",
              "max                        0.724000          968.000000  "
            ],
            "text/html": [
              "\n",
              "  <div id=\"df-6e21d811-a70a-4234-9aeb-de527f03bc6e\">\n",
              "    <div class=\"colab-df-container\">\n",
              "      <div>\n",
              "<style scoped>\n",
              "    .dataframe tbody tr th:only-of-type {\n",
              "        vertical-align: middle;\n",
              "    }\n",
              "\n",
              "    .dataframe tbody tr th {\n",
              "        vertical-align: top;\n",
              "    }\n",
              "\n",
              "    .dataframe thead th {\n",
              "        text-align: right;\n",
              "    }\n",
              "</style>\n",
              "<table border=\"1\" class=\"dataframe\">\n",
              "  <thead>\n",
              "    <tr style=\"text-align: right;\">\n",
              "      <th></th>\n",
              "      <th>Num_contry</th>\n",
              "      <th>Petrol_tax</th>\n",
              "      <th>Average_income</th>\n",
              "      <th>Paved_Highways</th>\n",
              "      <th>Population_Driver_licence(%)</th>\n",
              "      <th>Petrol_Consumption</th>\n",
              "    </tr>\n",
              "  </thead>\n",
              "  <tbody>\n",
              "    <tr>\n",
              "      <th>count</th>\n",
              "      <td>48.00</td>\n",
              "      <td>48.000000</td>\n",
              "      <td>48.000000</td>\n",
              "      <td>48.000000</td>\n",
              "      <td>48.000000</td>\n",
              "      <td>48.000000</td>\n",
              "    </tr>\n",
              "    <tr>\n",
              "      <th>mean</th>\n",
              "      <td>24.50</td>\n",
              "      <td>7.668333</td>\n",
              "      <td>4241.833333</td>\n",
              "      <td>5565.416667</td>\n",
              "      <td>0.570333</td>\n",
              "      <td>576.770833</td>\n",
              "    </tr>\n",
              "    <tr>\n",
              "      <th>std</th>\n",
              "      <td>14.00</td>\n",
              "      <td>0.950770</td>\n",
              "      <td>573.623768</td>\n",
              "      <td>3491.507166</td>\n",
              "      <td>0.055470</td>\n",
              "      <td>111.885816</td>\n",
              "    </tr>\n",
              "    <tr>\n",
              "      <th>min</th>\n",
              "      <td>1.00</td>\n",
              "      <td>5.000000</td>\n",
              "      <td>3063.000000</td>\n",
              "      <td>431.000000</td>\n",
              "      <td>0.451000</td>\n",
              "      <td>344.000000</td>\n",
              "    </tr>\n",
              "    <tr>\n",
              "      <th>25%</th>\n",
              "      <td>12.75</td>\n",
              "      <td>7.000000</td>\n",
              "      <td>3739.000000</td>\n",
              "      <td>3110.250000</td>\n",
              "      <td>0.529750</td>\n",
              "      <td>509.500000</td>\n",
              "    </tr>\n",
              "    <tr>\n",
              "      <th>50%</th>\n",
              "      <td>24.50</td>\n",
              "      <td>7.500000</td>\n",
              "      <td>4298.000000</td>\n",
              "      <td>4735.500000</td>\n",
              "      <td>0.564500</td>\n",
              "      <td>568.500000</td>\n",
              "    </tr>\n",
              "    <tr>\n",
              "      <th>75%</th>\n",
              "      <td>36.25</td>\n",
              "      <td>8.125000</td>\n",
              "      <td>4578.750000</td>\n",
              "      <td>7156.000000</td>\n",
              "      <td>0.595250</td>\n",
              "      <td>632.750000</td>\n",
              "    </tr>\n",
              "    <tr>\n",
              "      <th>max</th>\n",
              "      <td>48.00</td>\n",
              "      <td>10.000000</td>\n",
              "      <td>5342.000000</td>\n",
              "      <td>17782.000000</td>\n",
              "      <td>0.724000</td>\n",
              "      <td>968.000000</td>\n",
              "    </tr>\n",
              "  </tbody>\n",
              "</table>\n",
              "</div>\n",
              "      <button class=\"colab-df-convert\" onclick=\"convertToInteractive('df-6e21d811-a70a-4234-9aeb-de527f03bc6e')\"\n",
              "              title=\"Convert this dataframe to an interactive table.\"\n",
              "              style=\"display:none;\">\n",
              "        \n",
              "  <svg xmlns=\"http://www.w3.org/2000/svg\" height=\"24px\"viewBox=\"0 0 24 24\"\n",
              "       width=\"24px\">\n",
              "    <path d=\"M0 0h24v24H0V0z\" fill=\"none\"/>\n",
              "    <path d=\"M18.56 5.44l.94 2.06.94-2.06 2.06-.94-2.06-.94-.94-2.06-.94 2.06-2.06.94zm-11 1L8.5 8.5l.94-2.06 2.06-.94-2.06-.94L8.5 2.5l-.94 2.06-2.06.94zm10 10l.94 2.06.94-2.06 2.06-.94-2.06-.94-.94-2.06-.94 2.06-2.06.94z\"/><path d=\"M17.41 7.96l-1.37-1.37c-.4-.4-.92-.59-1.43-.59-.52 0-1.04.2-1.43.59L10.3 9.45l-7.72 7.72c-.78.78-.78 2.05 0 2.83L4 21.41c.39.39.9.59 1.41.59.51 0 1.02-.2 1.41-.59l7.78-7.78 2.81-2.81c.8-.78.8-2.07 0-2.86zM5.41 20L4 18.59l7.72-7.72 1.47 1.35L5.41 20z\"/>\n",
              "  </svg>\n",
              "      </button>\n",
              "      \n",
              "  <style>\n",
              "    .colab-df-container {\n",
              "      display:flex;\n",
              "      flex-wrap:wrap;\n",
              "      gap: 12px;\n",
              "    }\n",
              "\n",
              "    .colab-df-convert {\n",
              "      background-color: #E8F0FE;\n",
              "      border: none;\n",
              "      border-radius: 50%;\n",
              "      cursor: pointer;\n",
              "      display: none;\n",
              "      fill: #1967D2;\n",
              "      height: 32px;\n",
              "      padding: 0 0 0 0;\n",
              "      width: 32px;\n",
              "    }\n",
              "\n",
              "    .colab-df-convert:hover {\n",
              "      background-color: #E2EBFA;\n",
              "      box-shadow: 0px 1px 2px rgba(60, 64, 67, 0.3), 0px 1px 3px 1px rgba(60, 64, 67, 0.15);\n",
              "      fill: #174EA6;\n",
              "    }\n",
              "\n",
              "    [theme=dark] .colab-df-convert {\n",
              "      background-color: #3B4455;\n",
              "      fill: #D2E3FC;\n",
              "    }\n",
              "\n",
              "    [theme=dark] .colab-df-convert:hover {\n",
              "      background-color: #434B5C;\n",
              "      box-shadow: 0px 1px 3px 1px rgba(0, 0, 0, 0.15);\n",
              "      filter: drop-shadow(0px 1px 2px rgba(0, 0, 0, 0.3));\n",
              "      fill: #FFFFFF;\n",
              "    }\n",
              "  </style>\n",
              "\n",
              "      <script>\n",
              "        const buttonEl =\n",
              "          document.querySelector('#df-6e21d811-a70a-4234-9aeb-de527f03bc6e button.colab-df-convert');\n",
              "        buttonEl.style.display =\n",
              "          google.colab.kernel.accessAllowed ? 'block' : 'none';\n",
              "\n",
              "        async function convertToInteractive(key) {\n",
              "          const element = document.querySelector('#df-6e21d811-a70a-4234-9aeb-de527f03bc6e');\n",
              "          const dataTable =\n",
              "            await google.colab.kernel.invokeFunction('convertToInteractive',\n",
              "                                                     [key], {});\n",
              "          if (!dataTable) return;\n",
              "\n",
              "          const docLinkHtml = 'Like what you see? Visit the ' +\n",
              "            '<a target=\"_blank\" href=https://colab.research.google.com/notebooks/data_table.ipynb>data table notebook</a>'\n",
              "            + ' to learn more about interactive tables.';\n",
              "          element.innerHTML = '';\n",
              "          dataTable['output_type'] = 'display_data';\n",
              "          await google.colab.output.renderOutput(dataTable, element);\n",
              "          const docLink = document.createElement('div');\n",
              "          docLink.innerHTML = docLinkHtml;\n",
              "          element.appendChild(docLink);\n",
              "        }\n",
              "      </script>\n",
              "    </div>\n",
              "  </div>\n",
              "  "
            ]
          },
          "metadata": {},
          "execution_count": 48
        }
      ],
      "source": [
        "import pandas as pd\n",
        "import numpy as np\n",
        "import matplotlib.pyplot as plt\n",
        "import seaborn as seabornInstance\n",
        "from sklearn.model_selection import train_test_split\n",
        "from sklearn.linear_model import LinearRegression\n",
        "from sklearn import metrics\n",
        "\n",
        "url=\"https://raw.githubusercontent.com/likarajo/petrol_consumption/master/data/petrol_consumption.csv\"\n",
        "dataF = pd.read_csv(url)\n",
        "y = [i for i in range(1, 49)]\n",
        "\n",
        "new_y = np.array(y)\n",
        "new_y = new_y.transpose()\n",
        "df3 = pd.DataFrame(new_y)\n",
        "df3 = df3.rename(columns = {0:'Num_contry'}, inplace = False)\n",
        "\n",
        "new_X = np.array(dataF)\n",
        "\n",
        "df4 = pd.DataFrame(new_X)\n",
        "df4 = df4.rename(columns = {0: 'Petrol_tax', 1: 'Average_income',2: 'Paved_Highways',3: 'Population_Driver_licence(%)',4: 'Petrol_Consumption'}, inplace = False)\n",
        "\n",
        "frames = [df3, df4]\n",
        "dataset = pd.concat([df3,df4], axis=1, join=\"inner\")\n",
        "dataset.head()\n",
        "\n",
        "\n",
        "print(dataset.shape)\n",
        "dataset.describe()\n",
        "\n"
      ]
    },
    {
      "cell_type": "code",
      "execution_count": 49,
      "id": "9dc6cc78",
      "metadata": {
        "colab": {
          "base_uri": "https://localhost:8080/",
          "height": 1000
        },
        "id": "9dc6cc78",
        "outputId": "eb543a5f-af6d-4315-b903-2cfebdabf2ab"
      },
      "outputs": [
        {
          "output_type": "stream",
          "name": "stdout",
          "text": [
            "[[1.0000e+00 9.0000e+00 3.5710e+03 1.9760e+03 5.2500e-01]\n",
            " [2.0000e+00 9.0000e+00 4.0920e+03 1.2500e+03 5.7200e-01]\n",
            " [3.0000e+00 9.0000e+00 3.8650e+03 1.5860e+03 5.8000e-01]\n",
            " [4.0000e+00 7.5000e+00 4.8700e+03 2.3510e+03 5.2900e-01]\n",
            " [5.0000e+00 8.0000e+00 4.3990e+03 4.3100e+02 5.4400e-01]\n",
            " [6.0000e+00 1.0000e+01 5.3420e+03 1.3330e+03 5.7100e-01]\n",
            " [7.0000e+00 8.0000e+00 5.3190e+03 1.1868e+04 4.5100e-01]\n",
            " [8.0000e+00 8.0000e+00 5.1260e+03 2.1380e+03 5.5300e-01]\n",
            " [9.0000e+00 8.0000e+00 4.4470e+03 8.5770e+03 5.2900e-01]\n",
            " [1.0000e+01 7.0000e+00 4.5120e+03 8.5070e+03 5.5200e-01]\n",
            " [1.1000e+01 8.0000e+00 4.3910e+03 5.9390e+03 5.3000e-01]\n",
            " [1.2000e+01 7.5000e+00 5.1260e+03 1.4186e+04 5.2500e-01]\n",
            " [1.3000e+01 7.0000e+00 4.8170e+03 6.9300e+03 5.7400e-01]\n",
            " [1.4000e+01 7.0000e+00 4.2070e+03 6.5800e+03 5.4500e-01]\n",
            " [1.5000e+01 7.0000e+00 4.3320e+03 8.1590e+03 6.0800e-01]\n",
            " [1.6000e+01 7.0000e+00 4.3180e+03 1.0340e+04 5.8600e-01]\n",
            " [1.7000e+01 7.0000e+00 4.2060e+03 8.5080e+03 5.7200e-01]\n",
            " [1.8000e+01 7.0000e+00 3.7180e+03 4.7250e+03 5.4000e-01]\n",
            " [1.9000e+01 7.0000e+00 4.7160e+03 5.9150e+03 7.2400e-01]\n",
            " [2.0000e+01 8.5000e+00 4.3410e+03 6.0100e+03 6.7700e-01]\n",
            " [2.1000e+01 7.0000e+00 4.5930e+03 7.8340e+03 6.6300e-01]\n",
            " [2.2000e+01 8.0000e+00 4.9830e+03 6.0200e+02 6.0200e-01]\n",
            " [2.3000e+01 9.0000e+00 4.8970e+03 2.4490e+03 5.1100e-01]\n",
            " [2.4000e+01 9.0000e+00 4.2580e+03 4.6860e+03 5.1700e-01]\n",
            " [2.5000e+01 8.5000e+00 4.5740e+03 2.6190e+03 5.5100e-01]\n",
            " [2.6000e+01 9.0000e+00 3.7210e+03 4.7460e+03 5.4400e-01]\n",
            " [2.7000e+01 8.0000e+00 3.4480e+03 5.3990e+03 5.4800e-01]\n",
            " [2.8000e+01 7.5000e+00 3.8460e+03 9.0610e+03 5.7900e-01]\n",
            " [2.9000e+01 8.0000e+00 4.1880e+03 5.9750e+03 5.6300e-01]\n",
            " [3.0000e+01 9.0000e+00 3.6010e+03 4.6500e+03 4.9300e-01]\n",
            " [3.1000e+01 7.0000e+00 3.6400e+03 6.9050e+03 5.1800e-01]\n",
            " [3.2000e+01 7.0000e+00 3.3330e+03 6.5940e+03 5.1300e-01]\n",
            " [3.3000e+01 8.0000e+00 3.0630e+03 6.5240e+03 5.7800e-01]\n",
            " [3.4000e+01 7.5000e+00 3.3570e+03 4.1210e+03 5.4700e-01]\n",
            " [3.5000e+01 8.0000e+00 3.5280e+03 3.4950e+03 4.8700e-01]\n",
            " [3.6000e+01 6.5800e+00 3.8020e+03 7.8340e+03 6.2900e-01]\n",
            " [3.7000e+01 5.0000e+00 4.0450e+03 1.7782e+04 5.6600e-01]\n",
            " [3.8000e+01 7.0000e+00 3.8970e+03 6.3850e+03 5.8600e-01]\n",
            " [3.9000e+01 8.5000e+00 3.6350e+03 3.2740e+03 6.6300e-01]\n",
            " [4.0000e+01 7.0000e+00 4.3450e+03 3.9050e+03 6.7200e-01]\n",
            " [4.1000e+01 7.0000e+00 4.4490e+03 4.6390e+03 6.2600e-01]\n",
            " [4.2000e+01 7.0000e+00 3.6560e+03 3.9850e+03 5.6300e-01]\n",
            " [4.3000e+01 7.0000e+00 4.3000e+03 3.6350e+03 6.0300e-01]\n",
            " [4.4000e+01 7.0000e+00 3.7450e+03 2.6110e+03 5.0800e-01]\n",
            " [4.5000e+01 6.0000e+00 5.2150e+03 2.3020e+03 6.7200e-01]\n",
            " [4.6000e+01 9.0000e+00 4.4760e+03 3.9420e+03 5.7100e-01]\n",
            " [4.7000e+01 7.0000e+00 4.2960e+03 4.0830e+03 6.2300e-01]\n",
            " [4.8000e+01 7.0000e+00 5.0020e+03 9.7940e+03 5.9300e-01]]\n",
            "[541. 524. 561. 414. 410. 457. 344. 467. 464. 498. 580. 471. 525. 508.\n",
            " 566. 635. 603. 714. 865. 640. 649. 540. 464. 547. 460. 566. 577. 631.\n",
            " 574. 534. 571. 554. 577. 628. 487. 644. 640. 704. 648. 968. 587. 699.\n",
            " 632. 591. 782. 510. 610. 524.]\n"
          ]
        },
        {
          "output_type": "execute_result",
          "data": {
            "text/plain": [
              "DecisionTreeRegressor()"
            ],
            "text/html": [
              "<style>#sk-container-id-4 {color: black;background-color: white;}#sk-container-id-4 pre{padding: 0;}#sk-container-id-4 div.sk-toggleable {background-color: white;}#sk-container-id-4 label.sk-toggleable__label {cursor: pointer;display: block;width: 100%;margin-bottom: 0;padding: 0.3em;box-sizing: border-box;text-align: center;}#sk-container-id-4 label.sk-toggleable__label-arrow:before {content: \"▸\";float: left;margin-right: 0.25em;color: #696969;}#sk-container-id-4 label.sk-toggleable__label-arrow:hover:before {color: black;}#sk-container-id-4 div.sk-estimator:hover label.sk-toggleable__label-arrow:before {color: black;}#sk-container-id-4 div.sk-toggleable__content {max-height: 0;max-width: 0;overflow: hidden;text-align: left;background-color: #f0f8ff;}#sk-container-id-4 div.sk-toggleable__content pre {margin: 0.2em;color: black;border-radius: 0.25em;background-color: #f0f8ff;}#sk-container-id-4 input.sk-toggleable__control:checked~div.sk-toggleable__content {max-height: 200px;max-width: 100%;overflow: auto;}#sk-container-id-4 input.sk-toggleable__control:checked~label.sk-toggleable__label-arrow:before {content: \"▾\";}#sk-container-id-4 div.sk-estimator input.sk-toggleable__control:checked~label.sk-toggleable__label {background-color: #d4ebff;}#sk-container-id-4 div.sk-label input.sk-toggleable__control:checked~label.sk-toggleable__label {background-color: #d4ebff;}#sk-container-id-4 input.sk-hidden--visually {border: 0;clip: rect(1px 1px 1px 1px);clip: rect(1px, 1px, 1px, 1px);height: 1px;margin: -1px;overflow: hidden;padding: 0;position: absolute;width: 1px;}#sk-container-id-4 div.sk-estimator {font-family: monospace;background-color: #f0f8ff;border: 1px dotted black;border-radius: 0.25em;box-sizing: border-box;margin-bottom: 0.5em;}#sk-container-id-4 div.sk-estimator:hover {background-color: #d4ebff;}#sk-container-id-4 div.sk-parallel-item::after {content: \"\";width: 100%;border-bottom: 1px solid gray;flex-grow: 1;}#sk-container-id-4 div.sk-label:hover label.sk-toggleable__label {background-color: #d4ebff;}#sk-container-id-4 div.sk-serial::before {content: \"\";position: absolute;border-left: 1px solid gray;box-sizing: border-box;top: 0;bottom: 0;left: 50%;z-index: 0;}#sk-container-id-4 div.sk-serial {display: flex;flex-direction: column;align-items: center;background-color: white;padding-right: 0.2em;padding-left: 0.2em;position: relative;}#sk-container-id-4 div.sk-item {position: relative;z-index: 1;}#sk-container-id-4 div.sk-parallel {display: flex;align-items: stretch;justify-content: center;background-color: white;position: relative;}#sk-container-id-4 div.sk-item::before, #sk-container-id-4 div.sk-parallel-item::before {content: \"\";position: absolute;border-left: 1px solid gray;box-sizing: border-box;top: 0;bottom: 0;left: 50%;z-index: -1;}#sk-container-id-4 div.sk-parallel-item {display: flex;flex-direction: column;z-index: 1;position: relative;background-color: white;}#sk-container-id-4 div.sk-parallel-item:first-child::after {align-self: flex-end;width: 50%;}#sk-container-id-4 div.sk-parallel-item:last-child::after {align-self: flex-start;width: 50%;}#sk-container-id-4 div.sk-parallel-item:only-child::after {width: 0;}#sk-container-id-4 div.sk-dashed-wrapped {border: 1px dashed gray;margin: 0 0.4em 0.5em 0.4em;box-sizing: border-box;padding-bottom: 0.4em;background-color: white;}#sk-container-id-4 div.sk-label label {font-family: monospace;font-weight: bold;display: inline-block;line-height: 1.2em;}#sk-container-id-4 div.sk-label-container {text-align: center;}#sk-container-id-4 div.sk-container {/* jupyter's `normalize.less` sets `[hidden] { display: none; }` but bootstrap.min.css set `[hidden] { display: none !important; }` so we also need the `!important` here to be able to override the default hidden behavior on the sphinx rendered scikit-learn.org. See: https://github.com/scikit-learn/scikit-learn/issues/21755 */display: inline-block !important;position: relative;}#sk-container-id-4 div.sk-text-repr-fallback {display: none;}</style><div id=\"sk-container-id-4\" class=\"sk-top-container\"><div class=\"sk-text-repr-fallback\"><pre>DecisionTreeRegressor()</pre><b>In a Jupyter environment, please rerun this cell to show the HTML representation or trust the notebook. <br />On GitHub, the HTML representation is unable to render, please try loading this page with nbviewer.org.</b></div><div class=\"sk-container\" hidden><div class=\"sk-item\"><div class=\"sk-estimator sk-toggleable\"><input class=\"sk-toggleable__control sk-hidden--visually\" id=\"sk-estimator-id-4\" type=\"checkbox\" checked><label for=\"sk-estimator-id-4\" class=\"sk-toggleable__label sk-toggleable__label-arrow\">DecisionTreeRegressor</label><div class=\"sk-toggleable__content\"><pre>DecisionTreeRegressor()</pre></div></div></div></div></div>"
            ]
          },
          "metadata": {},
          "execution_count": 49
        }
      ],
      "source": [
        "from sklearn.tree import DecisionTreeRegressor\n",
        "X = dataset.iloc[:,:-1].values\n",
        "y = dataset.iloc[:,-1].values\n",
        "print(X)\n",
        "print(y)\n",
        "\n",
        "# Теперь, когда у нас есть атрибуты и метки, необходимо разделить их на а обучающий и тестовый набор.\n",
        "# Приведенный фрагмент разделяют 80% данных на обучающий набор, а 20% данных - на набор тестов\n",
        "X_train,X_test, y_train, y_test = train_test_split(X,y,test_size=0.2, random_state=0)\n",
        "\n",
        "# далее можно обучить алгоритм линейной регрессии\n",
        "# необходимо импортировать класс LinearRegression, создать его экземпляр и вызвать fit()\n",
        "regressor = DecisionTreeRegressor()\n",
        "regressor.fit(X_train,y_train)\n"
      ]
    },
    {
      "cell_type": "code",
      "execution_count": 50,
      "id": "3dacba0a",
      "metadata": {
        "colab": {
          "base_uri": "https://localhost:8080/",
          "height": 1000
        },
        "id": "3dacba0a",
        "outputId": "cbb7114f-c7c0-4453-aa61-62983097cebc"
      },
      "outputs": [
        {
          "output_type": "execute_result",
          "data": {
            "text/plain": [
              "[Text(0.7117866847826086, 0.9545454545454546, 'x[4] <= 0.667\\nsquared_error = 13692.341\\nsamples = 38\\nvalue = 583.974'),\n",
              " Text(0.5105298913043478, 0.8636363636363636, 'x[2] <= 4389.5\\nsquared_error = 6666.408\\nsamples = 34\\nvalue = 556.941'),\n",
              " Text(0.21671195652173914, 0.7727272727272727, 'x[0] <= 15.5\\nsquared_error = 2855.42\\nsamples = 21\\nvalue = 600.762'),\n",
              " Text(0.08695652173913043, 0.6818181818181818, 'x[4] <= 0.576\\nsquared_error = 479.6\\nsamples = 5\\nvalue = 540.0'),\n",
              " Text(0.043478260869565216, 0.5909090909090909, 'x[2] <= 3831.5\\nsquared_error = 181.556\\nsamples = 3\\nvalue = 524.333'),\n",
              " Text(0.021739130434782608, 0.5, 'squared_error = 0.0\\nsamples = 1\\nvalue = 541.0'),\n",
              " Text(0.06521739130434782, 0.5, 'x[3] <= 3915.0\\nsquared_error = 64.0\\nsamples = 2\\nvalue = 516.0'),\n",
              " Text(0.043478260869565216, 0.4090909090909091, 'squared_error = 0.0\\nsamples = 1\\nvalue = 524.0'),\n",
              " Text(0.08695652173913043, 0.4090909090909091, 'squared_error = 0.0\\nsamples = 1\\nvalue = 508.0'),\n",
              " Text(0.13043478260869565, 0.5909090909090909, 'x[2] <= 4098.5\\nsquared_error = 6.25\\nsamples = 2\\nvalue = 563.5'),\n",
              " Text(0.10869565217391304, 0.5, 'squared_error = 0.0\\nsamples = 1\\nvalue = 561.0'),\n",
              " Text(0.15217391304347827, 0.5, 'squared_error = 0.0\\nsamples = 1\\nvalue = 566.0'),\n",
              " Text(0.34646739130434784, 0.6818181818181818, 'x[4] <= 0.529\\nsquared_error = 2083.562\\nsamples = 16\\nvalue = 619.75'),\n",
              " Text(0.21739130434782608, 0.5909090909090909, 'x[3] <= 3648.5\\nsquared_error = 372.667\\nsamples = 3\\nvalue = 564.0'),\n",
              " Text(0.1956521739130435, 0.5, 'squared_error = 0.0\\nsamples = 1\\nvalue = 591.0'),\n",
              " Text(0.2391304347826087, 0.5, 'x[3] <= 5640.0\\nsquared_error = 12.25\\nsamples = 2\\nvalue = 550.5'),\n",
              " Text(0.21739130434782608, 0.4090909090909091, 'squared_error = 0.0\\nsamples = 1\\nvalue = 547.0'),\n",
              " Text(0.2608695652173913, 0.4090909090909091, 'squared_error = 0.0\\nsamples = 1\\nvalue = 554.0'),\n",
              " Text(0.47554347826086957, 0.5909090909090909, 'x[2] <= 3719.5\\nsquared_error = 1595.621\\nsamples = 13\\nvalue = 632.615'),\n",
              " Text(0.34782608695652173, 0.5, 'x[2] <= 3645.5\\nsquared_error = 1251.188\\nsamples = 4\\nvalue = 672.25'),\n",
              " Text(0.30434782608695654, 0.4090909090909091, 'x[2] <= 3496.0\\nsquared_error = 100.0\\nsamples = 2\\nvalue = 638.0'),\n",
              " Text(0.2826086956521739, 0.3181818181818182, 'squared_error = 0.0\\nsamples = 1\\nvalue = 628.0'),\n",
              " Text(0.32608695652173914, 0.3181818181818182, 'squared_error = 0.0\\nsamples = 1\\nvalue = 648.0'),\n",
              " Text(0.391304347826087, 0.4090909090909091, 'x[4] <= 0.552\\nsquared_error = 56.25\\nsamples = 2\\nvalue = 706.5'),\n",
              " Text(0.3695652173913043, 0.3181818181818182, 'squared_error = 0.0\\nsamples = 1\\nvalue = 714.0'),\n",
              " Text(0.41304347826086957, 0.3181818181818182, 'squared_error = 0.0\\nsamples = 1\\nvalue = 699.0'),\n",
              " Text(0.6032608695652174, 0.5, 'x[1] <= 7.75\\nsquared_error = 740.222\\nsamples = 9\\nvalue = 615.0'),\n",
              " Text(0.532608695652174, 0.4090909090909091, 'x[2] <= 4125.5\\nsquared_error = 203.265\\nsamples = 7\\nvalue = 627.857'),\n",
              " Text(0.45652173913043476, 0.3181818181818182, 'x[0] <= 32.0\\nsquared_error = 29.556\\nsamples = 3\\nvalue = 638.333'),\n",
              " Text(0.43478260869565216, 0.22727272727272727, 'squared_error = 0.0\\nsamples = 1\\nvalue = 631.0'),\n",
              " Text(0.4782608695652174, 0.22727272727272727, 'x[2] <= 3923.5\\nsquared_error = 4.0\\nsamples = 2\\nvalue = 642.0'),\n",
              " Text(0.45652173913043476, 0.13636363636363635, 'squared_error = 0.0\\nsamples = 1\\nvalue = 644.0'),\n",
              " Text(0.5, 0.13636363636363635, 'squared_error = 0.0\\nsamples = 1\\nvalue = 640.0'),\n",
              " Text(0.6086956521739131, 0.3181818181818182, 'x[2] <= 4298.0\\nsquared_error = 189.5\\nsamples = 4\\nvalue = 620.0'),\n",
              " Text(0.5652173913043478, 0.22727272727272727, 'x[0] <= 32.0\\nsquared_error = 12.25\\nsamples = 2\\nvalue = 606.5'),\n",
              " Text(0.5434782608695652, 0.13636363636363635, 'squared_error = 0.0\\nsamples = 1\\nvalue = 603.0'),\n",
              " Text(0.5869565217391305, 0.13636363636363635, 'squared_error = 0.0\\nsamples = 1\\nvalue = 610.0'),\n",
              " Text(0.6521739130434783, 0.22727272727272727, 'x[0] <= 29.5\\nsquared_error = 2.25\\nsamples = 2\\nvalue = 633.5'),\n",
              " Text(0.6304347826086957, 0.13636363636363635, 'squared_error = 0.0\\nsamples = 1\\nvalue = 635.0'),\n",
              " Text(0.6739130434782609, 0.13636363636363635, 'squared_error = 0.0\\nsamples = 1\\nvalue = 632.0'),\n",
              " Text(0.6739130434782609, 0.4090909090909091, 'x[1] <= 8.5\\nsquared_error = 16.0\\nsamples = 2\\nvalue = 570.0'),\n",
              " Text(0.6521739130434783, 0.3181818181818182, 'squared_error = 0.0\\nsamples = 1\\nvalue = 574.0'),\n",
              " Text(0.6956521739130435, 0.3181818181818182, 'squared_error = 0.0\\nsamples = 1\\nvalue = 566.0'),\n",
              " Text(0.8043478260869565, 0.7727272727272727, 'x[4] <= 0.572\\nsquared_error = 4709.822\\nsamples = 13\\nvalue = 486.154'),\n",
              " Text(0.7391304347826086, 0.6818181818181818, 'x[4] <= 0.481\\nsquared_error = 2144.914\\nsamples = 9\\nvalue = 453.556'),\n",
              " Text(0.717391304347826, 0.5909090909090909, 'squared_error = 0.0\\nsamples = 1\\nvalue = 344.0'),\n",
              " Text(0.7608695652173914, 0.5909090909090909, 'x[0] <= 5.0\\nsquared_error = 725.188\\nsamples = 8\\nvalue = 467.25'),\n",
              " Text(0.7391304347826086, 0.5, 'squared_error = 0.0\\nsamples = 1\\nvalue = 414.0'),\n",
              " Text(0.782608695652174, 0.5, 'x[0] <= 35.5\\nsquared_error = 365.837\\nsamples = 7\\nvalue = 474.857'),\n",
              " Text(0.7608695652173914, 0.4090909090909091, 'x[1] <= 7.25\\nsquared_error = 186.667\\nsamples = 6\\nvalue = 469.0'),\n",
              " Text(0.7391304347826086, 0.3181818181818182, 'squared_error = 0.0\\nsamples = 1\\nvalue = 498.0'),\n",
              " Text(0.782608695652174, 0.3181818181818182, 'x[1] <= 7.75\\nsquared_error = 22.16\\nsamples = 5\\nvalue = 463.2'),\n",
              " Text(0.7608695652173914, 0.22727272727272727, 'squared_error = 0.0\\nsamples = 1\\nvalue = 471.0'),\n",
              " Text(0.8043478260869565, 0.22727272727272727, 'x[4] <= 0.54\\nsquared_error = 8.688\\nsamples = 4\\nvalue = 461.25'),\n",
              " Text(0.782608695652174, 0.13636363636363635, 'squared_error = 0.0\\nsamples = 2\\nvalue = 464.0'),\n",
              " Text(0.8260869565217391, 0.13636363636363635, 'x[1] <= 9.25\\nsquared_error = 2.25\\nsamples = 2\\nvalue = 458.5'),\n",
              " Text(0.8043478260869565, 0.045454545454545456, 'squared_error = 0.0\\nsamples = 1\\nvalue = 460.0'),\n",
              " Text(0.8478260869565217, 0.045454545454545456, 'squared_error = 0.0\\nsamples = 1\\nvalue = 457.0'),\n",
              " Text(0.8043478260869565, 0.4090909090909091, 'squared_error = 0.0\\nsamples = 1\\nvalue = 510.0'),\n",
              " Text(0.8695652173913043, 0.6818181818181818, 'x[2] <= 4705.0\\nsquared_error = 2710.25\\nsamples = 4\\nvalue = 559.5'),\n",
              " Text(0.8478260869565217, 0.5909090909090909, 'squared_error = 0.0\\nsamples = 1\\nvalue = 649.0'),\n",
              " Text(0.8913043478260869, 0.5909090909090909, 'x[1] <= 7.5\\nsquared_error = 53.556\\nsamples = 3\\nvalue = 529.667'),\n",
              " Text(0.8695652173913043, 0.5, 'x[4] <= 0.583\\nsquared_error = 0.25\\nsamples = 2\\nvalue = 524.5'),\n",
              " Text(0.8478260869565217, 0.4090909090909091, 'squared_error = 0.0\\nsamples = 1\\nvalue = 525.0'),\n",
              " Text(0.8913043478260869, 0.4090909090909091, 'squared_error = 0.0\\nsamples = 1\\nvalue = 524.0'),\n",
              " Text(0.9130434782608695, 0.5, 'squared_error = 0.0\\nsamples = 1\\nvalue = 540.0'),\n",
              " Text(0.9130434782608695, 0.8636363636363636, 'x[2] <= 4343.0\\nsquared_error = 14404.188\\nsamples = 4\\nvalue = 813.75'),\n",
              " Text(0.8913043478260869, 0.7727272727272727, 'squared_error = 0.0\\nsamples = 1\\nvalue = 640.0'),\n",
              " Text(0.9347826086956522, 0.7727272727272727, 'x[2] <= 4530.5\\nsquared_error = 5788.222\\nsamples = 3\\nvalue = 871.667'),\n",
              " Text(0.9130434782608695, 0.6818181818181818, 'squared_error = 0.0\\nsamples = 1\\nvalue = 968.0'),\n",
              " Text(0.9565217391304348, 0.6818181818181818, 'x[0] <= 32.0\\nsquared_error = 1722.25\\nsamples = 2\\nvalue = 823.5'),\n",
              " Text(0.9347826086956522, 0.5909090909090909, 'squared_error = 0.0\\nsamples = 1\\nvalue = 865.0'),\n",
              " Text(0.9782608695652174, 0.5909090909090909, 'squared_error = 0.0\\nsamples = 1\\nvalue = 782.0')]"
            ]
          },
          "metadata": {},
          "execution_count": 50
        },
        {
          "output_type": "display_data",
          "data": {
            "text/plain": [
              "<Figure size 640x480 with 1 Axes>"
            ],
            "image/png": "[encoded data removed]"
          },
          "metadata": {}
        }
      ],
      "source": [
        "from sklearn import tree\n",
        "tree.plot_tree(regressor)"
      ]
    },
    {
      "cell_type": "code",
      "execution_count": 51,
      "id": "75f7a8f0",
      "metadata": {
        "colab": {
          "base_uri": "https://localhost:8080/"
        },
        "id": "75f7a8f0",
        "outputId": "d555991b-c8ad-4e03-b58d-ae9b94950e5f"
      },
      "outputs": [
        {
          "output_type": "execute_result",
          "data": {
            "text/plain": [
              "array([547., 414., 628., 554., 628., 644., 591., 649., 460., 464.])"
            ]
          },
          "metadata": {},
          "execution_count": 51
        }
      ],
      "source": [
        "# Построим прогноз:\n",
        "y_pred = regressor.predict(X_test)\n",
        "y_pred"
      ]
    },
    {
      "cell_type": "code",
      "execution_count": 52,
      "id": "de1c7da4",
      "metadata": {
        "colab": {
          "base_uri": "https://localhost:8080/",
          "height": 363
        },
        "id": "de1c7da4",
        "outputId": "0b24cfc2-824a-4009-a56c-bd83e5a5600f"
      },
      "outputs": [
        {
          "output_type": "execute_result",
          "data": {
            "text/plain": [
              "   Actual  Predicted\n",
              "0   534.0      547.0\n",
              "1   410.0      414.0\n",
              "2   577.0      628.0\n",
              "3   571.0      554.0\n",
              "4   577.0      628.0\n",
              "5   704.0      644.0\n",
              "6   487.0      591.0\n",
              "7   587.0      649.0\n",
              "8   467.0      460.0\n",
              "9   580.0      464.0"
            ],
            "text/html": [
              "\n",
              "  <div id=\"df-407b599a-5c47-4e9c-a0d5-6b61ef5d36f6\">\n",
              "    <div class=\"colab-df-container\">\n",
              "      <div>\n",
              "<style scoped>\n",
              "    .dataframe tbody tr th:only-of-type {\n",
              "        vertical-align: middle;\n",
              "    }\n",
              "\n",
              "    .dataframe tbody tr th {\n",
              "        vertical-align: top;\n",
              "    }\n",
              "\n",
              "    .dataframe thead th {\n",
              "        text-align: right;\n",
              "    }\n",
              "</style>\n",
              "<table border=\"1\" class=\"dataframe\">\n",
              "  <thead>\n",
              "    <tr style=\"text-align: right;\">\n",
              "      <th></th>\n",
              "      <th>Actual</th>\n",
              "      <th>Predicted</th>\n",
              "    </tr>\n",
              "  </thead>\n",
              "  <tbody>\n",
              "    <tr>\n",
              "      <th>0</th>\n",
              "      <td>534.0</td>\n",
              "      <td>547.0</td>\n",
              "    </tr>\n",
              "    <tr>\n",
              "      <th>1</th>\n",
              "      <td>410.0</td>\n",
              "      <td>414.0</td>\n",
              "    </tr>\n",
              "    <tr>\n",
              "      <th>2</th>\n",
              "      <td>577.0</td>\n",
              "      <td>628.0</td>\n",
              "    </tr>\n",
              "    <tr>\n",
              "      <th>3</th>\n",
              "      <td>571.0</td>\n",
              "      <td>554.0</td>\n",
              "    </tr>\n",
              "    <tr>\n",
              "      <th>4</th>\n",
              "      <td>577.0</td>\n",
              "      <td>628.0</td>\n",
              "    </tr>\n",
              "    <tr>\n",
              "      <th>5</th>\n",
              "      <td>704.0</td>\n",
              "      <td>644.0</td>\n",
              "    </tr>\n",
              "    <tr>\n",
              "      <th>6</th>\n",
              "      <td>487.0</td>\n",
              "      <td>591.0</td>\n",
              "    </tr>\n",
              "    <tr>\n",
              "      <th>7</th>\n",
              "      <td>587.0</td>\n",
              "      <td>649.0</td>\n",
              "    </tr>\n",
              "    <tr>\n",
              "      <th>8</th>\n",
              "      <td>467.0</td>\n",
              "      <td>460.0</td>\n",
              "    </tr>\n",
              "    <tr>\n",
              "      <th>9</th>\n",
              "      <td>580.0</td>\n",
              "      <td>464.0</td>\n",
              "    </tr>\n",
              "  </tbody>\n",
              "</table>\n",
              "</div>\n",
              "      <button class=\"colab-df-convert\" onclick=\"convertToInteractive('df-407b599a-5c47-4e9c-a0d5-6b61ef5d36f6')\"\n",
              "              title=\"Convert this dataframe to an interactive table.\"\n",
              "              style=\"display:none;\">\n",
              "        \n",
              "  <svg xmlns=\"http://www.w3.org/2000/svg\" height=\"24px\"viewBox=\"0 0 24 24\"\n",
              "       width=\"24px\">\n",
              "    <path d=\"M0 0h24v24H0V0z\" fill=\"none\"/>\n",
              "    <path d=\"M18.56 5.44l.94 2.06.94-2.06 2.06-.94-2.06-.94-.94-2.06-.94 2.06-2.06.94zm-11 1L8.5 8.5l.94-2.06 2.06-.94-2.06-.94L8.5 2.5l-.94 2.06-2.06.94zm10 10l.94 2.06.94-2.06 2.06-.94-2.06-.94-.94-2.06-.94 2.06-2.06.94z\"/><path d=\"M17.41 7.96l-1.37-1.37c-.4-.4-.92-.59-1.43-.59-.52 0-1.04.2-1.43.59L10.3 9.45l-7.72 7.72c-.78.78-.78 2.05 0 2.83L4 21.41c.39.39.9.59 1.41.59.51 0 1.02-.2 1.41-.59l7.78-7.78 2.81-2.81c.8-.78.8-2.07 0-2.86zM5.41 20L4 18.59l7.72-7.72 1.47 1.35L5.41 20z\"/>\n",
              "  </svg>\n",
              "      </button>\n",
              "      \n",
              "  <style>\n",
              "    .colab-df-container {\n",
              "      display:flex;\n",
              "      flex-wrap:wrap;\n",
              "      gap: 12px;\n",
              "    }\n",
              "\n",
              "    .colab-df-convert {\n",
              "      background-color: #E8F0FE;\n",
              "      border: none;\n",
              "      border-radius: 50%;\n",
              "      cursor: pointer;\n",
              "      display: none;\n",
              "      fill: #1967D2;\n",
              "      height: 32px;\n",
              "      padding: 0 0 0 0;\n",
              "      width: 32px;\n",
              "    }\n",
              "\n",
              "    .colab-df-convert:hover {\n",
              "      background-color: #E2EBFA;\n",
              "      box-shadow: 0px 1px 2px rgba(60, 64, 67, 0.3), 0px 1px 3px 1px rgba(60, 64, 67, 0.15);\n",
              "      fill: #174EA6;\n",
              "    }\n",
              "\n",
              "    [theme=dark] .colab-df-convert {\n",
              "      background-color: #3B4455;\n",
              "      fill: #D2E3FC;\n",
              "    }\n",
              "\n",
              "    [theme=dark] .colab-df-convert:hover {\n",
              "      background-color: #434B5C;\n",
              "      box-shadow: 0px 1px 3px 1px rgba(0, 0, 0, 0.15);\n",
              "      filter: drop-shadow(0px 1px 2px rgba(0, 0, 0, 0.3));\n",
              "      fill: #FFFFFF;\n",
              "    }\n",
              "  </style>\n",
              "\n",
              "      <script>\n",
              "        const buttonEl =\n",
              "          document.querySelector('#df-407b599a-5c47-4e9c-a0d5-6b61ef5d36f6 button.colab-df-convert');\n",
              "        buttonEl.style.display =\n",
              "          google.colab.kernel.accessAllowed ? 'block' : 'none';\n",
              "\n",
              "        async function convertToInteractive(key) {\n",
              "          const element = document.querySelector('#df-407b599a-5c47-4e9c-a0d5-6b61ef5d36f6');\n",
              "          const dataTable =\n",
              "            await google.colab.kernel.invokeFunction('convertToInteractive',\n",
              "                                                     [key], {});\n",
              "          if (!dataTable) return;\n",
              "\n",
              "          const docLinkHtml = 'Like what you see? Visit the ' +\n",
              "            '<a target=\"_blank\" href=https://colab.research.google.com/notebooks/data_table.ipynb>data table notebook</a>'\n",
              "            + ' to learn more about interactive tables.';\n",
              "          element.innerHTML = '';\n",
              "          dataTable['output_type'] = 'display_data';\n",
              "          await google.colab.output.renderOutput(dataTable, element);\n",
              "          const docLink = document.createElement('div');\n",
              "          docLink.innerHTML = docLinkHtml;\n",
              "          element.appendChild(docLink);\n",
              "        }\n",
              "      </script>\n",
              "    </div>\n",
              "  </div>\n",
              "  "
            ]
          },
          "metadata": {},
          "execution_count": 52
        }
      ],
      "source": [
        "# Теперь сравним некоторые из наших прогнозируемых значений с фактическими значениями:\n",
        "\n",
        "df = pd.DataFrame({'Actual':y_test,'Predicted':y_pred})\n",
        "df"
      ]
    },
    {
      "cell_type": "code",
      "execution_count": 53,
      "id": "cf322d0a",
      "metadata": {
        "colab": {
          "base_uri": "https://localhost:8080/"
        },
        "id": "cf322d0a",
        "outputId": "58cb1948-e00d-4a9c-a9f2-081b16207f21"
      },
      "outputs": [
        {
          "output_type": "stream",
          "name": "stdout",
          "text": [
            "Mean Squared Error:  3744.1\n",
            "Mean Absolute Error: 48.5\n"
          ]
        }
      ],
      "source": [
        "# Расчитаем среднюю абсолютную и среднеквадратичную ошибку регрессии:\n",
        "from sklearn import metrics\n",
        "print('Mean Squared Error: ', metrics.mean_squared_error(y_test,y_pred))\n",
        "print('Mean Absolute Error:', metrics.mean_absolute_error(y_test,y_pred))"
      ]
    },
    {
      "cell_type": "code",
      "execution_count": 54,
      "id": "0bc14734",
      "metadata": {
        "colab": {
          "base_uri": "https://localhost:8080/"
        },
        "id": "0bc14734",
        "outputId": "489e851d-319a-4c53-a829-e228711d4545"
      },
      "outputs": [
        {
          "output_type": "execute_result",
          "data": {
            "text/plain": [
              "8.40888567816507"
            ]
          },
          "metadata": {},
          "execution_count": 54
        }
      ],
      "source": [
        "metrics.mean_absolute_error(y_test,y_pred)/np.average(y)*100\n"
      ]
    }
  ],
  "metadata": {
    "kernelspec": {
      "display_name": "Python 3 (ipykernel)",
      "language": "python",
      "name": "python3"
    },
    "language_info": {
      "codemirror_mode": {
        "name": "ipython",
        "version": 3
      },
      "file_extension": ".py",
      "mimetype": "text/x-python",
      "name": "python",
      "nbconvert_exporter": "python",
      "pygments_lexer": "ipython3",
      "version": "3.9.7"
    },
    "colab": {
      "provenance": []
    }
  },
  "nbformat": 4,
  "nbformat_minor": 5
}